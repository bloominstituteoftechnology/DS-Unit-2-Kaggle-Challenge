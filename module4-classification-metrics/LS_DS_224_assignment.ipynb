{
 "cells": [
  {
   "cell_type": "markdown",
   "metadata": {},
   "source": [
    "BloomTech Data Science\n",
    "\n",
    "*Unit 2, Sprint 2, Module 4*\n",
    "\n",
    "---"
   ]
  },
  {
   "cell_type": "code",
   "execution_count": 2,
   "metadata": {},
   "outputs": [],
   "source": [
    "from category_encoders import OrdinalEncoder\n",
    "from sklearn.ensemble import RandomForestClassifier\n",
    "from sklearn.impute import SimpleImputer\n",
    "from sklearn.metrics import plot_confusion_matrix, classification_report\n",
    "from sklearn.model_selection import train_test_split\n",
    "from sklearn.pipeline import make_pipeline\n",
    "import pandas as pd"
   ]
  },
  {
   "cell_type": "code",
   "execution_count": 3,
   "metadata": {},
   "outputs": [],
   "source": [
    "%%capture\n",
    "import sys\n",
    "\n",
    "# If you're on Colab:\n",
    "if 'google.colab' in sys.modules:\n",
    "    DATA_PATH = 'https://raw.githubusercontent.com/LambdaSchool/DS-Unit-2-Kaggle-Challenge/main/data/'\n",
    "    !pip install category_encoders==2.*\n",
    "    !pip install pandas-profiling==2.*\n",
    "\n",
    "# If you're working locally:\n",
    "else:\n",
    "    DATA_PATH = '../data/'"
   ]
  },
  {
   "cell_type": "markdown",
   "metadata": {
    "colab_type": "text",
    "id": "nCc3XZEyG3XV"
   },
   "source": [
    "# Module Project: Classification Metrics\n",
    "\n",
    "This sprint, the module projects will focus on creating and improving a model for the Tanazania Water Pump dataset. Your goal is to create a model to predict whether a water pump is functional, non-functional, or needs repair.\n",
    "\n",
    "Dataset source: [DrivenData.org](https://www.drivendata.org/competitions/7/pump-it-up-data-mining-the-water-table/).\n",
    "\n",
    "## Directions\n",
    "\n",
    "The tasks for this project are as follows:\n",
    "\n",
    "- **Task 1:** Use `wrangle` function to import training and test data.\n",
    "- **Task 2:** Split training data into feature matrix `X` and target vector `y`.\n",
    "- **Task 3:** Split training data into training and validation sets.\n",
    "- **Task 4:** Establish the baseline accuracy score for your dataset.\n",
    "- **Task 5:** Build `model`.\n",
    "- **Task 6:** Calculate the training and validation accuracy score for your model.\n",
    "- **Task 7:** Plot the confusion matrix for your model.\n",
    "- **Task 8:** Print the classification report for your model.\n",
    "- **Task 9:** Identify likely `'non-functional'` pumps in the test set.\n",
    "- **Task 10:** Find likely `'non-functional'` pumps serving biggest populations.\n",
    "- **Task 11 (`stretch goal`):** Plot pump locations from Task 10.\n",
    "\n",
    "You should limit yourself to the following libraries for this project:\n",
    "\n",
    "- `category_encoders`\n",
    "- `matplotlib`\n",
    "- `pandas`\n",
    "- `pandas-profiling`\n",
    "- `plotly`\n",
    "- `sklearn`\n",
    "\n",
    "\n",
    "# I. Wrangle Data"
   ]
  },
  {
   "cell_type": "code",
   "execution_count": 4,
   "metadata": {},
   "outputs": [],
   "source": [
    "def wrangle(fm_path, tv_path=None):\n",
    "    if tv_path:\n",
    "        df = pd.merge(pd.read_csv(fm_path, \n",
    "                                  na_values=[0, -2.000000e-08]),\n",
    "                      pd.read_csv(tv_path)).set_index('id')\n",
    "    else:\n",
    "        df = pd.read_csv(fm_path, \n",
    "                         na_values=[0, -2.000000e-08],\n",
    "                         index_col='id')\n",
    "\n",
    "    # Drop constant columns\n",
    "    df.drop(columns=['recorded_by'], inplace=True)\n",
    "\n",
    "    # Drop HCCCs\n",
    "    cutoff = 100\n",
    "    drop_cols = [col for col in df.select_dtypes('object').columns\n",
    "                 if df[col].nunique() > cutoff]\n",
    "    df.drop(columns=drop_cols, inplace=True)\n",
    "\n",
    "    # Drop duplicate columns\n",
    "    dupe_cols = [col for col in df.head(15).T.duplicated().index\n",
    "                 if df.head(15).T.duplicated()[col]]\n",
    "    df.drop(columns=dupe_cols, inplace=True)             \n",
    "\n",
    "    return df"
   ]
  },
  {
   "cell_type": "markdown",
   "metadata": {},
   "source": [
    "**Task 1:** Using the above `wrangle` function to read `train_features.csv` and `train_labels.csv` into the DataFrame `df`, and `test_features.csv` into the DataFrame `X_test`."
   ]
  },
  {
   "cell_type": "code",
   "execution_count": 5,
   "metadata": {},
   "outputs": [
    {
     "name": "stdout",
     "output_type": "stream",
     "text": [
      "Wall time: 0 ns\n"
     ]
    },
    {
     "data": {
      "text/html": [
       "<div>\n",
       "<style scoped>\n",
       "    .dataframe tbody tr th:only-of-type {\n",
       "        vertical-align: middle;\n",
       "    }\n",
       "\n",
       "    .dataframe tbody tr th {\n",
       "        vertical-align: top;\n",
       "    }\n",
       "\n",
       "    .dataframe thead th {\n",
       "        text-align: right;\n",
       "    }\n",
       "</style>\n",
       "<table border=\"1\" class=\"dataframe\">\n",
       "  <thead>\n",
       "    <tr style=\"text-align: right;\">\n",
       "      <th></th>\n",
       "      <th>amount_tsh</th>\n",
       "      <th>gps_height</th>\n",
       "      <th>longitude</th>\n",
       "      <th>latitude</th>\n",
       "      <th>num_private</th>\n",
       "      <th>basin</th>\n",
       "      <th>region</th>\n",
       "      <th>region_code</th>\n",
       "      <th>district_code</th>\n",
       "      <th>population</th>\n",
       "      <th>...</th>\n",
       "      <th>payment_type</th>\n",
       "      <th>water_quality</th>\n",
       "      <th>quality_group</th>\n",
       "      <th>quantity</th>\n",
       "      <th>source</th>\n",
       "      <th>source_type</th>\n",
       "      <th>source_class</th>\n",
       "      <th>waterpoint_type</th>\n",
       "      <th>waterpoint_type_group</th>\n",
       "      <th>status_group</th>\n",
       "    </tr>\n",
       "    <tr>\n",
       "      <th>id</th>\n",
       "      <th></th>\n",
       "      <th></th>\n",
       "      <th></th>\n",
       "      <th></th>\n",
       "      <th></th>\n",
       "      <th></th>\n",
       "      <th></th>\n",
       "      <th></th>\n",
       "      <th></th>\n",
       "      <th></th>\n",
       "      <th></th>\n",
       "      <th></th>\n",
       "      <th></th>\n",
       "      <th></th>\n",
       "      <th></th>\n",
       "      <th></th>\n",
       "      <th></th>\n",
       "      <th></th>\n",
       "      <th></th>\n",
       "      <th></th>\n",
       "      <th></th>\n",
       "    </tr>\n",
       "  </thead>\n",
       "  <tbody>\n",
       "    <tr>\n",
       "      <th>69572.0</th>\n",
       "      <td>6000.0</td>\n",
       "      <td>1390.0</td>\n",
       "      <td>34.938093</td>\n",
       "      <td>-9.856322</td>\n",
       "      <td>NaN</td>\n",
       "      <td>Lake Nyasa</td>\n",
       "      <td>Iringa</td>\n",
       "      <td>11</td>\n",
       "      <td>5.0</td>\n",
       "      <td>109.0</td>\n",
       "      <td>...</td>\n",
       "      <td>annually</td>\n",
       "      <td>soft</td>\n",
       "      <td>good</td>\n",
       "      <td>enough</td>\n",
       "      <td>spring</td>\n",
       "      <td>spring</td>\n",
       "      <td>groundwater</td>\n",
       "      <td>communal standpipe</td>\n",
       "      <td>communal standpipe</td>\n",
       "      <td>functional</td>\n",
       "    </tr>\n",
       "    <tr>\n",
       "      <th>8776.0</th>\n",
       "      <td>NaN</td>\n",
       "      <td>1399.0</td>\n",
       "      <td>34.698766</td>\n",
       "      <td>-2.147466</td>\n",
       "      <td>NaN</td>\n",
       "      <td>Lake Victoria</td>\n",
       "      <td>Mara</td>\n",
       "      <td>20</td>\n",
       "      <td>2.0</td>\n",
       "      <td>280.0</td>\n",
       "      <td>...</td>\n",
       "      <td>never pay</td>\n",
       "      <td>soft</td>\n",
       "      <td>good</td>\n",
       "      <td>insufficient</td>\n",
       "      <td>rainwater harvesting</td>\n",
       "      <td>rainwater harvesting</td>\n",
       "      <td>surface</td>\n",
       "      <td>communal standpipe</td>\n",
       "      <td>communal standpipe</td>\n",
       "      <td>functional</td>\n",
       "    </tr>\n",
       "    <tr>\n",
       "      <th>34310.0</th>\n",
       "      <td>25.0</td>\n",
       "      <td>686.0</td>\n",
       "      <td>37.460664</td>\n",
       "      <td>-3.821329</td>\n",
       "      <td>NaN</td>\n",
       "      <td>Pangani</td>\n",
       "      <td>Manyara</td>\n",
       "      <td>21</td>\n",
       "      <td>4.0</td>\n",
       "      <td>250.0</td>\n",
       "      <td>...</td>\n",
       "      <td>per bucket</td>\n",
       "      <td>soft</td>\n",
       "      <td>good</td>\n",
       "      <td>enough</td>\n",
       "      <td>dam</td>\n",
       "      <td>dam</td>\n",
       "      <td>surface</td>\n",
       "      <td>communal standpipe multiple</td>\n",
       "      <td>communal standpipe</td>\n",
       "      <td>functional</td>\n",
       "    </tr>\n",
       "    <tr>\n",
       "      <th>67743.0</th>\n",
       "      <td>NaN</td>\n",
       "      <td>263.0</td>\n",
       "      <td>38.486161</td>\n",
       "      <td>-11.155298</td>\n",
       "      <td>NaN</td>\n",
       "      <td>Ruvuma / Southern Coast</td>\n",
       "      <td>Mtwara</td>\n",
       "      <td>90</td>\n",
       "      <td>63.0</td>\n",
       "      <td>58.0</td>\n",
       "      <td>...</td>\n",
       "      <td>never pay</td>\n",
       "      <td>soft</td>\n",
       "      <td>good</td>\n",
       "      <td>dry</td>\n",
       "      <td>machine dbh</td>\n",
       "      <td>borehole</td>\n",
       "      <td>groundwater</td>\n",
       "      <td>communal standpipe multiple</td>\n",
       "      <td>communal standpipe</td>\n",
       "      <td>non functional</td>\n",
       "    </tr>\n",
       "    <tr>\n",
       "      <th>19728.0</th>\n",
       "      <td>NaN</td>\n",
       "      <td>NaN</td>\n",
       "      <td>31.130847</td>\n",
       "      <td>-1.825359</td>\n",
       "      <td>NaN</td>\n",
       "      <td>Lake Victoria</td>\n",
       "      <td>Kagera</td>\n",
       "      <td>18</td>\n",
       "      <td>1.0</td>\n",
       "      <td>NaN</td>\n",
       "      <td>...</td>\n",
       "      <td>never pay</td>\n",
       "      <td>soft</td>\n",
       "      <td>good</td>\n",
       "      <td>seasonal</td>\n",
       "      <td>rainwater harvesting</td>\n",
       "      <td>rainwater harvesting</td>\n",
       "      <td>surface</td>\n",
       "      <td>communal standpipe</td>\n",
       "      <td>communal standpipe</td>\n",
       "      <td>functional</td>\n",
       "    </tr>\n",
       "  </tbody>\n",
       "</table>\n",
       "<p>5 rows × 29 columns</p>\n",
       "</div>"
      ],
      "text/plain": [
       "         amount_tsh  gps_height  longitude   latitude  num_private  \\\n",
       "id                                                                   \n",
       "69572.0      6000.0      1390.0  34.938093  -9.856322          NaN   \n",
       "8776.0          NaN      1399.0  34.698766  -2.147466          NaN   \n",
       "34310.0        25.0       686.0  37.460664  -3.821329          NaN   \n",
       "67743.0         NaN       263.0  38.486161 -11.155298          NaN   \n",
       "19728.0         NaN         NaN  31.130847  -1.825359          NaN   \n",
       "\n",
       "                           basin   region  region_code  district_code  \\\n",
       "id                                                                      \n",
       "69572.0               Lake Nyasa   Iringa           11            5.0   \n",
       "8776.0             Lake Victoria     Mara           20            2.0   \n",
       "34310.0                  Pangani  Manyara           21            4.0   \n",
       "67743.0  Ruvuma / Southern Coast   Mtwara           90           63.0   \n",
       "19728.0            Lake Victoria   Kagera           18            1.0   \n",
       "\n",
       "         population  ... payment_type water_quality quality_group  \\\n",
       "id                   ...                                            \n",
       "69572.0       109.0  ...     annually          soft          good   \n",
       "8776.0        280.0  ...    never pay          soft          good   \n",
       "34310.0       250.0  ...   per bucket          soft          good   \n",
       "67743.0        58.0  ...    never pay          soft          good   \n",
       "19728.0         NaN  ...    never pay          soft          good   \n",
       "\n",
       "             quantity                source           source_type  \\\n",
       "id                                                                  \n",
       "69572.0        enough                spring                spring   \n",
       "8776.0   insufficient  rainwater harvesting  rainwater harvesting   \n",
       "34310.0        enough                   dam                   dam   \n",
       "67743.0           dry           machine dbh              borehole   \n",
       "19728.0      seasonal  rainwater harvesting  rainwater harvesting   \n",
       "\n",
       "        source_class              waterpoint_type waterpoint_type_group  \\\n",
       "id                                                                        \n",
       "69572.0  groundwater           communal standpipe    communal standpipe   \n",
       "8776.0       surface           communal standpipe    communal standpipe   \n",
       "34310.0      surface  communal standpipe multiple    communal standpipe   \n",
       "67743.0  groundwater  communal standpipe multiple    communal standpipe   \n",
       "19728.0      surface           communal standpipe    communal standpipe   \n",
       "\n",
       "           status_group  \n",
       "id                       \n",
       "69572.0      functional  \n",
       "8776.0       functional  \n",
       "34310.0      functional  \n",
       "67743.0  non functional  \n",
       "19728.0      functional  \n",
       "\n",
       "[5 rows x 29 columns]"
      ]
     },
     "execution_count": 5,
     "metadata": {},
     "output_type": "execute_result"
    }
   ],
   "source": [
    "%time\n",
    "df = wrangle(r'C:\\Users\\Alex Lucchesi\\OneDrive\\Documents\\GitHub\\Unit_2_Kaggle_Challenge\\data\\waterpumps\\train_features.csv', r'C:\\Users\\Alex Lucchesi\\OneDrive\\Documents\\GitHub\\Unit_2_Kaggle_Challenge\\data\\waterpumps\\train_labels.csv')\n",
    "X_test = wrangle(r'C:\\Users\\Alex Lucchesi\\OneDrive\\Documents\\GitHub\\Unit_2_Kaggle_Challenge\\data\\waterpumps\\test_features.csv')\n",
    "df.head()\n",
    "# X_test.head()"
   ]
  },
  {
   "cell_type": "markdown",
   "metadata": {},
   "source": [
    "# II. Split Data\n",
    "\n",
    "**Task 2:** Split your DataFrame `df` into a feature matrix `X` and the target vector `y`. You want to predict `'status_group'`.\n",
    "\n",
    "**Note:** You won't need to do a train-test split because you'll use cross-validation instead."
   ]
  },
  {
   "cell_type": "code",
   "execution_count": 6,
   "metadata": {},
   "outputs": [],
   "source": [
    "target = 'status_group'\n",
    "X = df.drop(columns = target)\n",
    "y = df[target]"
   ]
  },
  {
   "cell_type": "markdown",
   "metadata": {},
   "source": [
    "**Task 3:** Using a randomized split, divide `X` and `y` into a training set (`X_train`, `y_train`) and a validation set (`X_val`, `y_val`)."
   ]
  },
  {
   "cell_type": "code",
   "execution_count": 7,
   "metadata": {},
   "outputs": [],
   "source": [
    "X_train, X_val, y_train, y_val = train_test_split(X,y, test_size = 0.2, random_state = 42)\n",
    "\n",
    "# Double check split was done proper\n",
    "assert len(X_train) + len(X_val) == len(X)"
   ]
  },
  {
   "cell_type": "markdown",
   "metadata": {},
   "source": [
    "# III. Establish Baseline\n",
    "\n",
    "**Task 4:** Since this is a **classification** problem, you should establish a baseline accuracy score. Figure out what is the majority class in `y_train` and what percentage of your training observations it represents."
   ]
  },
  {
   "cell_type": "code",
   "execution_count": 8,
   "metadata": {},
   "outputs": [
    {
     "name": "stdout",
     "output_type": "stream",
     "text": [
      "Baseline Accuracy Score: 54.2583 %\n"
     ]
    }
   ],
   "source": [
    "baseline_acc = y_train.value_counts(normalize=True).max() *100\n",
    "print('Baseline Accuracy Score:', round(baseline_acc, 4),'%')"
   ]
  },
  {
   "cell_type": "code",
   "execution_count": 9,
   "metadata": {},
   "outputs": [
    {
     "data": {
      "text/plain": [
       "functional                 25783\n",
       "non functional             18264\n",
       "functional needs repair     3472\n",
       "Name: status_group, dtype: int64"
      ]
     },
     "execution_count": 9,
     "metadata": {},
     "output_type": "execute_result"
    }
   ],
   "source": [
    "y_train.value_counts()"
   ]
  },
  {
   "cell_type": "markdown",
   "metadata": {},
   "source": [
    "Majority Class is Functional. To find percentage of training observations, we would do: percentage = functional / len(y_train). len(y_train) gives me the total number of observations."
   ]
  },
  {
   "cell_type": "code",
   "execution_count": 10,
   "metadata": {},
   "outputs": [
    {
     "name": "stdout",
     "output_type": "stream",
     "text": [
      "54.2583 %\n"
     ]
    }
   ],
   "source": [
    "percentage = 25783 / len(y_train)\n",
    "print(round(percentage*100, 4), '%')"
   ]
  },
  {
   "cell_type": "markdown",
   "metadata": {},
   "source": [
    "# IV. Build Models\n",
    "\n",
    "**Task 5:** Build and train your `model`. Include the transformers and predictor that you think are most appropriate for this problem."
   ]
  },
  {
   "cell_type": "code",
   "execution_count": 11,
   "metadata": {},
   "outputs": [],
   "source": [
    "model = make_pipeline(\n",
    "    OrdinalEncoder(),\n",
    "    SimpleImputer(strategy='mean'),\n",
    "    RandomForestClassifier(n_estimators = 25, n_jobs = -1, random_state = 42)\n",
    ")\n",
    "\n",
    "model.fit(X_train, y_train);"
   ]
  },
  {
   "cell_type": "markdown",
   "metadata": {},
   "source": [
    "# V. Check Metrics\n",
    "\n",
    "**Task 6:** Calculate the training and validation accuracy scores for `model`."
   ]
  },
  {
   "cell_type": "code",
   "execution_count": 12,
   "metadata": {},
   "outputs": [
    {
     "name": "stdout",
     "output_type": "stream",
     "text": [
      "Training Accuracy Score: 0.9920873755760854\n",
      "Validation Accuracy Score: 0.8005892255892256\n"
     ]
    }
   ],
   "source": [
    "training_acc = model.score(X_train, y_train)\n",
    "val_acc = model.score(X_val, y_val)\n",
    "\n",
    "print('Training Accuracy Score:', training_acc)\n",
    "print('Validation Accuracy Score:', val_acc)"
   ]
  },
  {
   "cell_type": "markdown",
   "metadata": {},
   "source": [
    "**Task 7:** Plot the confusion matrix for your model, using your validation data.\n",
    "\n",
    "**Note:** Since there are three classes in your target vector, the dimensions of your matrix will be 3x3."
   ]
  },
  {
   "cell_type": "code",
   "execution_count": 13,
   "metadata": {},
   "outputs": [
    {
     "data": {
      "image/png": "[encoded data removed]",
      "text/plain": [
       "<Figure size 432x288 with 2 Axes>"
      ]
     },
     "metadata": {
      "needs_background": "light"
     },
     "output_type": "display_data"
    }
   ],
   "source": [
    "# Plot 3x3 confusion matrix\n",
    "col = ['non functional','functional', 'functional needs repairs']\n",
    "plot_confusion_matrix(\n",
    "    model,\n",
    "    X_val,\n",
    "    y_val,\n",
    "    values_format= '.0f',\n",
    "    display_labels= col,\n",
    ");"
   ]
  },
  {
   "cell_type": "markdown",
   "metadata": {},
   "source": [
    "Calculating precision and recall for a multiclass problem is a bit of a mess. Fortunately, we can use `sklearn`'s classification report.\n",
    "\n",
    "**Task 8:**  Print the classification report for your `model`, using your validation data."
   ]
  },
  {
   "cell_type": "code",
   "execution_count": 14,
   "metadata": {},
   "outputs": [
    {
     "name": "stdout",
     "output_type": "stream",
     "text": [
      "                          precision    recall  f1-score   support\n",
      "\n",
      "          non functional       0.81      0.87      0.84      6476\n",
      "              functional       0.49      0.38      0.43       845\n",
      "functional needs repairs       0.83      0.78      0.80      4559\n",
      "\n",
      "                accuracy                           0.80     11880\n",
      "               macro avg       0.71      0.68      0.69     11880\n",
      "            weighted avg       0.80      0.80      0.80     11880\n",
      "\n"
     ]
    }
   ],
   "source": [
    "# Print classification report\n",
    "print(classification_report(y_val,\n",
    "                            model.predict(X_val),\n",
    "                            target_names = col))"
   ]
  },
  {
   "cell_type": "code",
   "execution_count": 15,
   "metadata": {},
   "outputs": [
    {
     "name": "stdout",
     "output_type": "stream",
     "text": [
      "Precision for the model is: 0.7100059711388861\n",
      "Recall Score for the model is: 0.6759302812034567\n",
      "f1 score for the model is: 0.69001282771349\n",
      "Functional Precision for the model is: 0.487062404870624\n"
     ]
    }
   ],
   "source": [
    "report = classification_report(y_val, \n",
    "                               model.predict(X_val),\n",
    "                               target_names= col,\n",
    "                               output_dict=True)\n",
    "\n",
    "# Can index into dict. Can be used to pull any values.\n",
    "precision = report['macro avg']['precision']\n",
    "recall = report['macro avg']['recall']\n",
    "f1 = report['macro avg']['f1-score']\n",
    "\n",
    "fucntional_precision = report['functional']['precision']\n",
    "print('Precision for the model is:', precision)\n",
    "print('Recall Score for the model is:', recall)\n",
    "print('f1 score for the model is:', f1)\n",
    "print('Functional Precision for the model is:', fucntional_precision)"
   ]
  },
  {
   "cell_type": "markdown",
   "metadata": {},
   "source": [
    "# VI. Tune Model\n",
    "\n",
    "Usually, we use this part of the ML workflow to adjust the hyperparameters of the our model to increase performance based on metrics like accuracy. Today, we'll use it to help maximize the impact of our water pump repairs when resources are scarce. What if we only had funds to repair 100 water pumps?\n",
    "\n",
    "(This activity is based on a [post](https://towardsdatascience.com/maximizing-scarce-maintenance-resources-with-data-8f3491133050) by Lambda alum Michael Brady.)\n",
    "\n",
    "**Task 9:** Using your model's `predict_proba` method, identify the observations in your **test set** where the model is more than 95% certain that a pump is `'non-functional'`. Put these observations in the DataFrame `X_test_nf`."
   ]
  },
  {
   "cell_type": "code",
   "execution_count": 16,
   "metadata": {},
   "outputs": [
    {
     "data": {
      "text/html": [
       "<div>\n",
       "<style scoped>\n",
       "    .dataframe tbody tr th:only-of-type {\n",
       "        vertical-align: middle;\n",
       "    }\n",
       "\n",
       "    .dataframe tbody tr th {\n",
       "        vertical-align: top;\n",
       "    }\n",
       "\n",
       "    .dataframe thead th {\n",
       "        text-align: right;\n",
       "    }\n",
       "</style>\n",
       "<table border=\"1\" class=\"dataframe\">\n",
       "  <thead>\n",
       "    <tr style=\"text-align: right;\">\n",
       "      <th></th>\n",
       "      <th>amount_tsh</th>\n",
       "      <th>gps_height</th>\n",
       "      <th>longitude</th>\n",
       "      <th>latitude</th>\n",
       "      <th>num_private</th>\n",
       "      <th>basin</th>\n",
       "      <th>region</th>\n",
       "      <th>region_code</th>\n",
       "      <th>district_code</th>\n",
       "      <th>population</th>\n",
       "      <th>...</th>\n",
       "      <th>payment</th>\n",
       "      <th>payment_type</th>\n",
       "      <th>water_quality</th>\n",
       "      <th>quality_group</th>\n",
       "      <th>quantity</th>\n",
       "      <th>source</th>\n",
       "      <th>source_type</th>\n",
       "      <th>source_class</th>\n",
       "      <th>waterpoint_type</th>\n",
       "      <th>waterpoint_type_group</th>\n",
       "    </tr>\n",
       "    <tr>\n",
       "      <th>id</th>\n",
       "      <th></th>\n",
       "      <th></th>\n",
       "      <th></th>\n",
       "      <th></th>\n",
       "      <th></th>\n",
       "      <th></th>\n",
       "      <th></th>\n",
       "      <th></th>\n",
       "      <th></th>\n",
       "      <th></th>\n",
       "      <th></th>\n",
       "      <th></th>\n",
       "      <th></th>\n",
       "      <th></th>\n",
       "      <th></th>\n",
       "      <th></th>\n",
       "      <th></th>\n",
       "      <th></th>\n",
       "      <th></th>\n",
       "      <th></th>\n",
       "      <th></th>\n",
       "    </tr>\n",
       "  </thead>\n",
       "  <tbody>\n",
       "    <tr>\n",
       "      <th>37098.0</th>\n",
       "      <td>NaN</td>\n",
       "      <td>NaN</td>\n",
       "      <td>31.985658</td>\n",
       "      <td>-3.596360</td>\n",
       "      <td>NaN</td>\n",
       "      <td>Lake Tanganyika</td>\n",
       "      <td>Shinyanga</td>\n",
       "      <td>17</td>\n",
       "      <td>5.0</td>\n",
       "      <td>NaN</td>\n",
       "      <td>...</td>\n",
       "      <td>unknown</td>\n",
       "      <td>unknown</td>\n",
       "      <td>soft</td>\n",
       "      <td>good</td>\n",
       "      <td>dry</td>\n",
       "      <td>shallow well</td>\n",
       "      <td>shallow well</td>\n",
       "      <td>groundwater</td>\n",
       "      <td>other</td>\n",
       "      <td>other</td>\n",
       "    </tr>\n",
       "    <tr>\n",
       "      <th>14530.0</th>\n",
       "      <td>NaN</td>\n",
       "      <td>NaN</td>\n",
       "      <td>32.832815</td>\n",
       "      <td>-4.944937</td>\n",
       "      <td>NaN</td>\n",
       "      <td>Lake Tanganyika</td>\n",
       "      <td>Tabora</td>\n",
       "      <td>14</td>\n",
       "      <td>6.0</td>\n",
       "      <td>NaN</td>\n",
       "      <td>...</td>\n",
       "      <td>never pay</td>\n",
       "      <td>never pay</td>\n",
       "      <td>milky</td>\n",
       "      <td>milky</td>\n",
       "      <td>insufficient</td>\n",
       "      <td>shallow well</td>\n",
       "      <td>shallow well</td>\n",
       "      <td>groundwater</td>\n",
       "      <td>hand pump</td>\n",
       "      <td>hand pump</td>\n",
       "    </tr>\n",
       "    <tr>\n",
       "      <th>71755.0</th>\n",
       "      <td>1200.0</td>\n",
       "      <td>906.0</td>\n",
       "      <td>35.711743</td>\n",
       "      <td>-10.780539</td>\n",
       "      <td>NaN</td>\n",
       "      <td>Ruvuma / Southern Coast</td>\n",
       "      <td>Ruvuma</td>\n",
       "      <td>10</td>\n",
       "      <td>2.0</td>\n",
       "      <td>NaN</td>\n",
       "      <td>...</td>\n",
       "      <td>pay annually</td>\n",
       "      <td>annually</td>\n",
       "      <td>soft</td>\n",
       "      <td>good</td>\n",
       "      <td>enough</td>\n",
       "      <td>river</td>\n",
       "      <td>river/lake</td>\n",
       "      <td>surface</td>\n",
       "      <td>communal standpipe</td>\n",
       "      <td>communal standpipe</td>\n",
       "    </tr>\n",
       "    <tr>\n",
       "      <th>55610.0</th>\n",
       "      <td>5000.0</td>\n",
       "      <td>1270.0</td>\n",
       "      <td>35.794196</td>\n",
       "      <td>-7.485443</td>\n",
       "      <td>NaN</td>\n",
       "      <td>Rufiji</td>\n",
       "      <td>Iringa</td>\n",
       "      <td>11</td>\n",
       "      <td>1.0</td>\n",
       "      <td>1.0</td>\n",
       "      <td>...</td>\n",
       "      <td>pay annually</td>\n",
       "      <td>annually</td>\n",
       "      <td>soft</td>\n",
       "      <td>good</td>\n",
       "      <td>enough</td>\n",
       "      <td>spring</td>\n",
       "      <td>spring</td>\n",
       "      <td>groundwater</td>\n",
       "      <td>communal standpipe</td>\n",
       "      <td>communal standpipe</td>\n",
       "    </tr>\n",
       "    <tr>\n",
       "      <th>19821.0</th>\n",
       "      <td>NaN</td>\n",
       "      <td>1945.0</td>\n",
       "      <td>34.233402</td>\n",
       "      <td>-9.374240</td>\n",
       "      <td>NaN</td>\n",
       "      <td>Lake Nyasa</td>\n",
       "      <td>Iringa</td>\n",
       "      <td>11</td>\n",
       "      <td>3.0</td>\n",
       "      <td>NaN</td>\n",
       "      <td>...</td>\n",
       "      <td>never pay</td>\n",
       "      <td>never pay</td>\n",
       "      <td>soft</td>\n",
       "      <td>good</td>\n",
       "      <td>enough</td>\n",
       "      <td>spring</td>\n",
       "      <td>spring</td>\n",
       "      <td>groundwater</td>\n",
       "      <td>communal standpipe</td>\n",
       "      <td>communal standpipe</td>\n",
       "    </tr>\n",
       "    <tr>\n",
       "      <th>...</th>\n",
       "      <td>...</td>\n",
       "      <td>...</td>\n",
       "      <td>...</td>\n",
       "      <td>...</td>\n",
       "      <td>...</td>\n",
       "      <td>...</td>\n",
       "      <td>...</td>\n",
       "      <td>...</td>\n",
       "      <td>...</td>\n",
       "      <td>...</td>\n",
       "      <td>...</td>\n",
       "      <td>...</td>\n",
       "      <td>...</td>\n",
       "      <td>...</td>\n",
       "      <td>...</td>\n",
       "      <td>...</td>\n",
       "      <td>...</td>\n",
       "      <td>...</td>\n",
       "      <td>...</td>\n",
       "      <td>...</td>\n",
       "      <td>...</td>\n",
       "    </tr>\n",
       "    <tr>\n",
       "      <th>50523.0</th>\n",
       "      <td>200.0</td>\n",
       "      <td>1239.0</td>\n",
       "      <td>30.325354</td>\n",
       "      <td>-4.312807</td>\n",
       "      <td>NaN</td>\n",
       "      <td>Lake Tanganyika</td>\n",
       "      <td>Kigoma</td>\n",
       "      <td>16</td>\n",
       "      <td>2.0</td>\n",
       "      <td>1500.0</td>\n",
       "      <td>...</td>\n",
       "      <td>pay monthly</td>\n",
       "      <td>monthly</td>\n",
       "      <td>soft</td>\n",
       "      <td>good</td>\n",
       "      <td>enough</td>\n",
       "      <td>spring</td>\n",
       "      <td>spring</td>\n",
       "      <td>groundwater</td>\n",
       "      <td>communal standpipe</td>\n",
       "      <td>communal standpipe</td>\n",
       "    </tr>\n",
       "    <tr>\n",
       "      <th>73846.0</th>\n",
       "      <td>NaN</td>\n",
       "      <td>NaN</td>\n",
       "      <td>32.799097</td>\n",
       "      <td>-5.018325</td>\n",
       "      <td>NaN</td>\n",
       "      <td>Lake Tanganyika</td>\n",
       "      <td>Tabora</td>\n",
       "      <td>14</td>\n",
       "      <td>6.0</td>\n",
       "      <td>NaN</td>\n",
       "      <td>...</td>\n",
       "      <td>pay per bucket</td>\n",
       "      <td>per bucket</td>\n",
       "      <td>soft</td>\n",
       "      <td>good</td>\n",
       "      <td>enough</td>\n",
       "      <td>dam</td>\n",
       "      <td>dam</td>\n",
       "      <td>surface</td>\n",
       "      <td>communal standpipe</td>\n",
       "      <td>communal standpipe</td>\n",
       "    </tr>\n",
       "    <tr>\n",
       "      <th>42110.0</th>\n",
       "      <td>NaN</td>\n",
       "      <td>NaN</td>\n",
       "      <td>33.865163</td>\n",
       "      <td>-3.331594</td>\n",
       "      <td>NaN</td>\n",
       "      <td>Internal</td>\n",
       "      <td>Shinyanga</td>\n",
       "      <td>17</td>\n",
       "      <td>2.0</td>\n",
       "      <td>NaN</td>\n",
       "      <td>...</td>\n",
       "      <td>other</td>\n",
       "      <td>other</td>\n",
       "      <td>soft</td>\n",
       "      <td>good</td>\n",
       "      <td>enough</td>\n",
       "      <td>shallow well</td>\n",
       "      <td>shallow well</td>\n",
       "      <td>groundwater</td>\n",
       "      <td>hand pump</td>\n",
       "      <td>hand pump</td>\n",
       "    </tr>\n",
       "    <tr>\n",
       "      <th>20061.0</th>\n",
       "      <td>NaN</td>\n",
       "      <td>NaN</td>\n",
       "      <td>33.365643</td>\n",
       "      <td>-8.877920</td>\n",
       "      <td>NaN</td>\n",
       "      <td>Lake Rukwa</td>\n",
       "      <td>Mbeya</td>\n",
       "      <td>12</td>\n",
       "      <td>2.0</td>\n",
       "      <td>NaN</td>\n",
       "      <td>...</td>\n",
       "      <td>pay when scheme fails</td>\n",
       "      <td>on failure</td>\n",
       "      <td>soft</td>\n",
       "      <td>good</td>\n",
       "      <td>enough</td>\n",
       "      <td>river</td>\n",
       "      <td>river/lake</td>\n",
       "      <td>surface</td>\n",
       "      <td>communal standpipe</td>\n",
       "      <td>communal standpipe</td>\n",
       "    </tr>\n",
       "    <tr>\n",
       "      <th>25579.0</th>\n",
       "      <td>NaN</td>\n",
       "      <td>783.0</td>\n",
       "      <td>36.087579</td>\n",
       "      <td>-10.899268</td>\n",
       "      <td>NaN</td>\n",
       "      <td>Ruvuma / Southern Coast</td>\n",
       "      <td>Ruvuma</td>\n",
       "      <td>10</td>\n",
       "      <td>5.0</td>\n",
       "      <td>540.0</td>\n",
       "      <td>...</td>\n",
       "      <td>pay when scheme fails</td>\n",
       "      <td>on failure</td>\n",
       "      <td>soft</td>\n",
       "      <td>good</td>\n",
       "      <td>insufficient</td>\n",
       "      <td>shallow well</td>\n",
       "      <td>shallow well</td>\n",
       "      <td>groundwater</td>\n",
       "      <td>hand pump</td>\n",
       "      <td>hand pump</td>\n",
       "    </tr>\n",
       "  </tbody>\n",
       "</table>\n",
       "<p>11880 rows × 28 columns</p>\n",
       "</div>"
      ],
      "text/plain": [
       "         amount_tsh  gps_height  longitude   latitude  num_private  \\\n",
       "id                                                                   \n",
       "37098.0         NaN         NaN  31.985658  -3.596360          NaN   \n",
       "14530.0         NaN         NaN  32.832815  -4.944937          NaN   \n",
       "71755.0      1200.0       906.0  35.711743 -10.780539          NaN   \n",
       "55610.0      5000.0      1270.0  35.794196  -7.485443          NaN   \n",
       "19821.0         NaN      1945.0  34.233402  -9.374240          NaN   \n",
       "...             ...         ...        ...        ...          ...   \n",
       "50523.0       200.0      1239.0  30.325354  -4.312807          NaN   \n",
       "73846.0         NaN         NaN  32.799097  -5.018325          NaN   \n",
       "42110.0         NaN         NaN  33.865163  -3.331594          NaN   \n",
       "20061.0         NaN         NaN  33.365643  -8.877920          NaN   \n",
       "25579.0         NaN       783.0  36.087579 -10.899268          NaN   \n",
       "\n",
       "                           basin     region  region_code  district_code  \\\n",
       "id                                                                        \n",
       "37098.0          Lake Tanganyika  Shinyanga           17            5.0   \n",
       "14530.0          Lake Tanganyika     Tabora           14            6.0   \n",
       "71755.0  Ruvuma / Southern Coast     Ruvuma           10            2.0   \n",
       "55610.0                   Rufiji     Iringa           11            1.0   \n",
       "19821.0               Lake Nyasa     Iringa           11            3.0   \n",
       "...                          ...        ...          ...            ...   \n",
       "50523.0          Lake Tanganyika     Kigoma           16            2.0   \n",
       "73846.0          Lake Tanganyika     Tabora           14            6.0   \n",
       "42110.0                 Internal  Shinyanga           17            2.0   \n",
       "20061.0               Lake Rukwa      Mbeya           12            2.0   \n",
       "25579.0  Ruvuma / Southern Coast     Ruvuma           10            5.0   \n",
       "\n",
       "         population  ...                payment payment_type water_quality  \\\n",
       "id                   ...                                                     \n",
       "37098.0         NaN  ...                unknown      unknown          soft   \n",
       "14530.0         NaN  ...              never pay    never pay         milky   \n",
       "71755.0         NaN  ...           pay annually     annually          soft   \n",
       "55610.0         1.0  ...           pay annually     annually          soft   \n",
       "19821.0         NaN  ...              never pay    never pay          soft   \n",
       "...             ...  ...                    ...          ...           ...   \n",
       "50523.0      1500.0  ...            pay monthly      monthly          soft   \n",
       "73846.0         NaN  ...         pay per bucket   per bucket          soft   \n",
       "42110.0         NaN  ...                  other        other          soft   \n",
       "20061.0         NaN  ...  pay when scheme fails   on failure          soft   \n",
       "25579.0       540.0  ...  pay when scheme fails   on failure          soft   \n",
       "\n",
       "         quality_group      quantity        source   source_type source_class  \\\n",
       "id                                                                              \n",
       "37098.0           good           dry  shallow well  shallow well  groundwater   \n",
       "14530.0          milky  insufficient  shallow well  shallow well  groundwater   \n",
       "71755.0           good        enough         river    river/lake      surface   \n",
       "55610.0           good        enough        spring        spring  groundwater   \n",
       "19821.0           good        enough        spring        spring  groundwater   \n",
       "...                ...           ...           ...           ...          ...   \n",
       "50523.0           good        enough        spring        spring  groundwater   \n",
       "73846.0           good        enough           dam           dam      surface   \n",
       "42110.0           good        enough  shallow well  shallow well  groundwater   \n",
       "20061.0           good        enough         river    river/lake      surface   \n",
       "25579.0           good  insufficient  shallow well  shallow well  groundwater   \n",
       "\n",
       "            waterpoint_type waterpoint_type_group  \n",
       "id                                                 \n",
       "37098.0               other                 other  \n",
       "14530.0           hand pump             hand pump  \n",
       "71755.0  communal standpipe    communal standpipe  \n",
       "55610.0  communal standpipe    communal standpipe  \n",
       "19821.0  communal standpipe    communal standpipe  \n",
       "...                     ...                   ...  \n",
       "50523.0  communal standpipe    communal standpipe  \n",
       "73846.0  communal standpipe    communal standpipe  \n",
       "42110.0           hand pump             hand pump  \n",
       "20061.0  communal standpipe    communal standpipe  \n",
       "25579.0           hand pump             hand pump  \n",
       "\n",
       "[11880 rows x 28 columns]"
      ]
     },
     "execution_count": 16,
     "metadata": {},
     "output_type": "execute_result"
    }
   ],
   "source": [
    "X_val"
   ]
  },
  {
   "cell_type": "code",
   "execution_count": 25,
   "metadata": {},
   "outputs": [
    {
     "data": {
      "text/html": [
       "<div>\n",
       "<style scoped>\n",
       "    .dataframe tbody tr th:only-of-type {\n",
       "        vertical-align: middle;\n",
       "    }\n",
       "\n",
       "    .dataframe tbody tr th {\n",
       "        vertical-align: top;\n",
       "    }\n",
       "\n",
       "    .dataframe thead th {\n",
       "        text-align: right;\n",
       "    }\n",
       "</style>\n",
       "<table border=\"1\" class=\"dataframe\">\n",
       "  <thead>\n",
       "    <tr style=\"text-align: right;\">\n",
       "      <th></th>\n",
       "      <th>amount_tsh</th>\n",
       "      <th>gps_height</th>\n",
       "      <th>longitude</th>\n",
       "      <th>latitude</th>\n",
       "      <th>num_private</th>\n",
       "      <th>basin</th>\n",
       "      <th>region</th>\n",
       "      <th>region_code</th>\n",
       "      <th>district_code</th>\n",
       "      <th>population</th>\n",
       "      <th>...</th>\n",
       "      <th>payment</th>\n",
       "      <th>payment_type</th>\n",
       "      <th>water_quality</th>\n",
       "      <th>quality_group</th>\n",
       "      <th>quantity</th>\n",
       "      <th>source</th>\n",
       "      <th>source_type</th>\n",
       "      <th>source_class</th>\n",
       "      <th>waterpoint_type</th>\n",
       "      <th>waterpoint_type_group</th>\n",
       "    </tr>\n",
       "    <tr>\n",
       "      <th>id</th>\n",
       "      <th></th>\n",
       "      <th></th>\n",
       "      <th></th>\n",
       "      <th></th>\n",
       "      <th></th>\n",
       "      <th></th>\n",
       "      <th></th>\n",
       "      <th></th>\n",
       "      <th></th>\n",
       "      <th></th>\n",
       "      <th></th>\n",
       "      <th></th>\n",
       "      <th></th>\n",
       "      <th></th>\n",
       "      <th></th>\n",
       "      <th></th>\n",
       "      <th></th>\n",
       "      <th></th>\n",
       "      <th></th>\n",
       "      <th></th>\n",
       "      <th></th>\n",
       "    </tr>\n",
       "  </thead>\n",
       "  <tbody>\n",
       "    <tr>\n",
       "      <th>37098.0</th>\n",
       "      <td>NaN</td>\n",
       "      <td>NaN</td>\n",
       "      <td>31.985658</td>\n",
       "      <td>-3.596360</td>\n",
       "      <td>NaN</td>\n",
       "      <td>Lake Tanganyika</td>\n",
       "      <td>Shinyanga</td>\n",
       "      <td>17</td>\n",
       "      <td>5.0</td>\n",
       "      <td>NaN</td>\n",
       "      <td>...</td>\n",
       "      <td>unknown</td>\n",
       "      <td>unknown</td>\n",
       "      <td>soft</td>\n",
       "      <td>good</td>\n",
       "      <td>dry</td>\n",
       "      <td>shallow well</td>\n",
       "      <td>shallow well</td>\n",
       "      <td>groundwater</td>\n",
       "      <td>other</td>\n",
       "      <td>other</td>\n",
       "    </tr>\n",
       "    <tr>\n",
       "      <th>14530.0</th>\n",
       "      <td>NaN</td>\n",
       "      <td>NaN</td>\n",
       "      <td>32.832815</td>\n",
       "      <td>-4.944937</td>\n",
       "      <td>NaN</td>\n",
       "      <td>Lake Tanganyika</td>\n",
       "      <td>Tabora</td>\n",
       "      <td>14</td>\n",
       "      <td>6.0</td>\n",
       "      <td>NaN</td>\n",
       "      <td>...</td>\n",
       "      <td>never pay</td>\n",
       "      <td>never pay</td>\n",
       "      <td>milky</td>\n",
       "      <td>milky</td>\n",
       "      <td>insufficient</td>\n",
       "      <td>shallow well</td>\n",
       "      <td>shallow well</td>\n",
       "      <td>groundwater</td>\n",
       "      <td>hand pump</td>\n",
       "      <td>hand pump</td>\n",
       "    </tr>\n",
       "    <tr>\n",
       "      <th>71755.0</th>\n",
       "      <td>1200.0</td>\n",
       "      <td>906.0</td>\n",
       "      <td>35.711743</td>\n",
       "      <td>-10.780539</td>\n",
       "      <td>NaN</td>\n",
       "      <td>Ruvuma / Southern Coast</td>\n",
       "      <td>Ruvuma</td>\n",
       "      <td>10</td>\n",
       "      <td>2.0</td>\n",
       "      <td>NaN</td>\n",
       "      <td>...</td>\n",
       "      <td>pay annually</td>\n",
       "      <td>annually</td>\n",
       "      <td>soft</td>\n",
       "      <td>good</td>\n",
       "      <td>enough</td>\n",
       "      <td>river</td>\n",
       "      <td>river/lake</td>\n",
       "      <td>surface</td>\n",
       "      <td>communal standpipe</td>\n",
       "      <td>communal standpipe</td>\n",
       "    </tr>\n",
       "    <tr>\n",
       "      <th>55610.0</th>\n",
       "      <td>5000.0</td>\n",
       "      <td>1270.0</td>\n",
       "      <td>35.794196</td>\n",
       "      <td>-7.485443</td>\n",
       "      <td>NaN</td>\n",
       "      <td>Rufiji</td>\n",
       "      <td>Iringa</td>\n",
       "      <td>11</td>\n",
       "      <td>1.0</td>\n",
       "      <td>1.0</td>\n",
       "      <td>...</td>\n",
       "      <td>pay annually</td>\n",
       "      <td>annually</td>\n",
       "      <td>soft</td>\n",
       "      <td>good</td>\n",
       "      <td>enough</td>\n",
       "      <td>spring</td>\n",
       "      <td>spring</td>\n",
       "      <td>groundwater</td>\n",
       "      <td>communal standpipe</td>\n",
       "      <td>communal standpipe</td>\n",
       "    </tr>\n",
       "    <tr>\n",
       "      <th>19821.0</th>\n",
       "      <td>NaN</td>\n",
       "      <td>1945.0</td>\n",
       "      <td>34.233402</td>\n",
       "      <td>-9.374240</td>\n",
       "      <td>NaN</td>\n",
       "      <td>Lake Nyasa</td>\n",
       "      <td>Iringa</td>\n",
       "      <td>11</td>\n",
       "      <td>3.0</td>\n",
       "      <td>NaN</td>\n",
       "      <td>...</td>\n",
       "      <td>never pay</td>\n",
       "      <td>never pay</td>\n",
       "      <td>soft</td>\n",
       "      <td>good</td>\n",
       "      <td>enough</td>\n",
       "      <td>spring</td>\n",
       "      <td>spring</td>\n",
       "      <td>groundwater</td>\n",
       "      <td>communal standpipe</td>\n",
       "      <td>communal standpipe</td>\n",
       "    </tr>\n",
       "    <tr>\n",
       "      <th>...</th>\n",
       "      <td>...</td>\n",
       "      <td>...</td>\n",
       "      <td>...</td>\n",
       "      <td>...</td>\n",
       "      <td>...</td>\n",
       "      <td>...</td>\n",
       "      <td>...</td>\n",
       "      <td>...</td>\n",
       "      <td>...</td>\n",
       "      <td>...</td>\n",
       "      <td>...</td>\n",
       "      <td>...</td>\n",
       "      <td>...</td>\n",
       "      <td>...</td>\n",
       "      <td>...</td>\n",
       "      <td>...</td>\n",
       "      <td>...</td>\n",
       "      <td>...</td>\n",
       "      <td>...</td>\n",
       "      <td>...</td>\n",
       "      <td>...</td>\n",
       "    </tr>\n",
       "    <tr>\n",
       "      <th>50523.0</th>\n",
       "      <td>200.0</td>\n",
       "      <td>1239.0</td>\n",
       "      <td>30.325354</td>\n",
       "      <td>-4.312807</td>\n",
       "      <td>NaN</td>\n",
       "      <td>Lake Tanganyika</td>\n",
       "      <td>Kigoma</td>\n",
       "      <td>16</td>\n",
       "      <td>2.0</td>\n",
       "      <td>1500.0</td>\n",
       "      <td>...</td>\n",
       "      <td>pay monthly</td>\n",
       "      <td>monthly</td>\n",
       "      <td>soft</td>\n",
       "      <td>good</td>\n",
       "      <td>enough</td>\n",
       "      <td>spring</td>\n",
       "      <td>spring</td>\n",
       "      <td>groundwater</td>\n",
       "      <td>communal standpipe</td>\n",
       "      <td>communal standpipe</td>\n",
       "    </tr>\n",
       "    <tr>\n",
       "      <th>73846.0</th>\n",
       "      <td>NaN</td>\n",
       "      <td>NaN</td>\n",
       "      <td>32.799097</td>\n",
       "      <td>-5.018325</td>\n",
       "      <td>NaN</td>\n",
       "      <td>Lake Tanganyika</td>\n",
       "      <td>Tabora</td>\n",
       "      <td>14</td>\n",
       "      <td>6.0</td>\n",
       "      <td>NaN</td>\n",
       "      <td>...</td>\n",
       "      <td>pay per bucket</td>\n",
       "      <td>per bucket</td>\n",
       "      <td>soft</td>\n",
       "      <td>good</td>\n",
       "      <td>enough</td>\n",
       "      <td>dam</td>\n",
       "      <td>dam</td>\n",
       "      <td>surface</td>\n",
       "      <td>communal standpipe</td>\n",
       "      <td>communal standpipe</td>\n",
       "    </tr>\n",
       "    <tr>\n",
       "      <th>42110.0</th>\n",
       "      <td>NaN</td>\n",
       "      <td>NaN</td>\n",
       "      <td>33.865163</td>\n",
       "      <td>-3.331594</td>\n",
       "      <td>NaN</td>\n",
       "      <td>Internal</td>\n",
       "      <td>Shinyanga</td>\n",
       "      <td>17</td>\n",
       "      <td>2.0</td>\n",
       "      <td>NaN</td>\n",
       "      <td>...</td>\n",
       "      <td>other</td>\n",
       "      <td>other</td>\n",
       "      <td>soft</td>\n",
       "      <td>good</td>\n",
       "      <td>enough</td>\n",
       "      <td>shallow well</td>\n",
       "      <td>shallow well</td>\n",
       "      <td>groundwater</td>\n",
       "      <td>hand pump</td>\n",
       "      <td>hand pump</td>\n",
       "    </tr>\n",
       "    <tr>\n",
       "      <th>20061.0</th>\n",
       "      <td>NaN</td>\n",
       "      <td>NaN</td>\n",
       "      <td>33.365643</td>\n",
       "      <td>-8.877920</td>\n",
       "      <td>NaN</td>\n",
       "      <td>Lake Rukwa</td>\n",
       "      <td>Mbeya</td>\n",
       "      <td>12</td>\n",
       "      <td>2.0</td>\n",
       "      <td>NaN</td>\n",
       "      <td>...</td>\n",
       "      <td>pay when scheme fails</td>\n",
       "      <td>on failure</td>\n",
       "      <td>soft</td>\n",
       "      <td>good</td>\n",
       "      <td>enough</td>\n",
       "      <td>river</td>\n",
       "      <td>river/lake</td>\n",
       "      <td>surface</td>\n",
       "      <td>communal standpipe</td>\n",
       "      <td>communal standpipe</td>\n",
       "    </tr>\n",
       "    <tr>\n",
       "      <th>25579.0</th>\n",
       "      <td>NaN</td>\n",
       "      <td>783.0</td>\n",
       "      <td>36.087579</td>\n",
       "      <td>-10.899268</td>\n",
       "      <td>NaN</td>\n",
       "      <td>Ruvuma / Southern Coast</td>\n",
       "      <td>Ruvuma</td>\n",
       "      <td>10</td>\n",
       "      <td>5.0</td>\n",
       "      <td>540.0</td>\n",
       "      <td>...</td>\n",
       "      <td>pay when scheme fails</td>\n",
       "      <td>on failure</td>\n",
       "      <td>soft</td>\n",
       "      <td>good</td>\n",
       "      <td>insufficient</td>\n",
       "      <td>shallow well</td>\n",
       "      <td>shallow well</td>\n",
       "      <td>groundwater</td>\n",
       "      <td>hand pump</td>\n",
       "      <td>hand pump</td>\n",
       "    </tr>\n",
       "  </tbody>\n",
       "</table>\n",
       "<p>11880 rows × 28 columns</p>\n",
       "</div>"
      ],
      "text/plain": [
       "         amount_tsh  gps_height  longitude   latitude  num_private  \\\n",
       "id                                                                   \n",
       "37098.0         NaN         NaN  31.985658  -3.596360          NaN   \n",
       "14530.0         NaN         NaN  32.832815  -4.944937          NaN   \n",
       "71755.0      1200.0       906.0  35.711743 -10.780539          NaN   \n",
       "55610.0      5000.0      1270.0  35.794196  -7.485443          NaN   \n",
       "19821.0         NaN      1945.0  34.233402  -9.374240          NaN   \n",
       "...             ...         ...        ...        ...          ...   \n",
       "50523.0       200.0      1239.0  30.325354  -4.312807          NaN   \n",
       "73846.0         NaN         NaN  32.799097  -5.018325          NaN   \n",
       "42110.0         NaN         NaN  33.865163  -3.331594          NaN   \n",
       "20061.0         NaN         NaN  33.365643  -8.877920          NaN   \n",
       "25579.0         NaN       783.0  36.087579 -10.899268          NaN   \n",
       "\n",
       "                           basin     region  region_code  district_code  \\\n",
       "id                                                                        \n",
       "37098.0          Lake Tanganyika  Shinyanga           17            5.0   \n",
       "14530.0          Lake Tanganyika     Tabora           14            6.0   \n",
       "71755.0  Ruvuma / Southern Coast     Ruvuma           10            2.0   \n",
       "55610.0                   Rufiji     Iringa           11            1.0   \n",
       "19821.0               Lake Nyasa     Iringa           11            3.0   \n",
       "...                          ...        ...          ...            ...   \n",
       "50523.0          Lake Tanganyika     Kigoma           16            2.0   \n",
       "73846.0          Lake Tanganyika     Tabora           14            6.0   \n",
       "42110.0                 Internal  Shinyanga           17            2.0   \n",
       "20061.0               Lake Rukwa      Mbeya           12            2.0   \n",
       "25579.0  Ruvuma / Southern Coast     Ruvuma           10            5.0   \n",
       "\n",
       "         population  ...                payment payment_type water_quality  \\\n",
       "id                   ...                                                     \n",
       "37098.0         NaN  ...                unknown      unknown          soft   \n",
       "14530.0         NaN  ...              never pay    never pay         milky   \n",
       "71755.0         NaN  ...           pay annually     annually          soft   \n",
       "55610.0         1.0  ...           pay annually     annually          soft   \n",
       "19821.0         NaN  ...              never pay    never pay          soft   \n",
       "...             ...  ...                    ...          ...           ...   \n",
       "50523.0      1500.0  ...            pay monthly      monthly          soft   \n",
       "73846.0         NaN  ...         pay per bucket   per bucket          soft   \n",
       "42110.0         NaN  ...                  other        other          soft   \n",
       "20061.0         NaN  ...  pay when scheme fails   on failure          soft   \n",
       "25579.0       540.0  ...  pay when scheme fails   on failure          soft   \n",
       "\n",
       "         quality_group      quantity        source   source_type source_class  \\\n",
       "id                                                                              \n",
       "37098.0           good           dry  shallow well  shallow well  groundwater   \n",
       "14530.0          milky  insufficient  shallow well  shallow well  groundwater   \n",
       "71755.0           good        enough         river    river/lake      surface   \n",
       "55610.0           good        enough        spring        spring  groundwater   \n",
       "19821.0           good        enough        spring        spring  groundwater   \n",
       "...                ...           ...           ...           ...          ...   \n",
       "50523.0           good        enough        spring        spring  groundwater   \n",
       "73846.0           good        enough           dam           dam      surface   \n",
       "42110.0           good        enough  shallow well  shallow well  groundwater   \n",
       "20061.0           good        enough         river    river/lake      surface   \n",
       "25579.0           good  insufficient  shallow well  shallow well  groundwater   \n",
       "\n",
       "            waterpoint_type waterpoint_type_group  \n",
       "id                                                 \n",
       "37098.0               other                 other  \n",
       "14530.0           hand pump             hand pump  \n",
       "71755.0  communal standpipe    communal standpipe  \n",
       "55610.0  communal standpipe    communal standpipe  \n",
       "19821.0  communal standpipe    communal standpipe  \n",
       "...                     ...                   ...  \n",
       "50523.0  communal standpipe    communal standpipe  \n",
       "73846.0  communal standpipe    communal standpipe  \n",
       "42110.0           hand pump             hand pump  \n",
       "20061.0  communal standpipe    communal standpipe  \n",
       "25579.0           hand pump             hand pump  \n",
       "\n",
       "[11880 rows x 28 columns]"
      ]
     },
     "execution_count": 25,
     "metadata": {},
     "output_type": "execute_result"
    }
   ],
   "source": [
    "X_val"
   ]
  },
  {
   "cell_type": "code",
   "execution_count": 21,
   "metadata": {},
   "outputs": [
    {
     "data": {
      "text/plain": [
       "id\n",
       "37098.0    non functional\n",
       "14530.0        functional\n",
       "71755.0        functional\n",
       "55610.0        functional\n",
       "19821.0        functional\n",
       "                ...      \n",
       "50523.0        functional\n",
       "73846.0        functional\n",
       "42110.0        functional\n",
       "20061.0        functional\n",
       "25579.0        functional\n",
       "Name: status_group, Length: 11880, dtype: object"
      ]
     },
     "execution_count": 21,
     "metadata": {},
     "output_type": "execute_result"
    }
   ],
   "source": [
    "y_val"
   ]
  },
  {
   "cell_type": "code",
   "execution_count": 26,
   "metadata": {},
   "outputs": [
    {
     "data": {
      "text/plain": [
       "{'y_val': id\n",
       " 37098.0    non functional\n",
       " 14530.0        functional\n",
       " 71755.0        functional\n",
       " 55610.0        functional\n",
       " 19821.0        functional\n",
       "                 ...      \n",
       " 50523.0        functional\n",
       " 73846.0        functional\n",
       " 42110.0        functional\n",
       " 20061.0        functional\n",
       " 25579.0        functional\n",
       " Name: status_group, Length: 11880, dtype: object,\n",
       " 'y_pred_proba': array([0.  , 0.56, 1.  , ..., 1.  , 0.28, 0.56])}"
      ]
     },
     "execution_count": 26,
     "metadata": {},
     "output_type": "execute_result"
    }
   ],
   "source": [
    "data"
   ]
  },
  {
   "cell_type": "code",
   "execution_count": 24,
   "metadata": {},
   "outputs": [
    {
     "data": {
      "text/html": [
       "<div>\n",
       "<style scoped>\n",
       "    .dataframe tbody tr th:only-of-type {\n",
       "        vertical-align: middle;\n",
       "    }\n",
       "\n",
       "    .dataframe tbody tr th {\n",
       "        vertical-align: top;\n",
       "    }\n",
       "\n",
       "    .dataframe thead th {\n",
       "        text-align: right;\n",
       "    }\n",
       "</style>\n",
       "<table border=\"1\" class=\"dataframe\">\n",
       "  <thead>\n",
       "    <tr style=\"text-align: right;\">\n",
       "      <th></th>\n",
       "      <th>y_val</th>\n",
       "      <th>y_pred_proba</th>\n",
       "    </tr>\n",
       "    <tr>\n",
       "      <th>id</th>\n",
       "      <th></th>\n",
       "      <th></th>\n",
       "    </tr>\n",
       "  </thead>\n",
       "  <tbody>\n",
       "    <tr>\n",
       "      <th>71755.0</th>\n",
       "      <td>functional</td>\n",
       "      <td>1.00</td>\n",
       "    </tr>\n",
       "    <tr>\n",
       "      <th>19821.0</th>\n",
       "      <td>functional</td>\n",
       "      <td>1.00</td>\n",
       "    </tr>\n",
       "    <tr>\n",
       "      <th>25975.0</th>\n",
       "      <td>functional</td>\n",
       "      <td>1.00</td>\n",
       "    </tr>\n",
       "    <tr>\n",
       "      <th>52838.0</th>\n",
       "      <td>functional</td>\n",
       "      <td>1.00</td>\n",
       "    </tr>\n",
       "    <tr>\n",
       "      <th>42806.0</th>\n",
       "      <td>functional</td>\n",
       "      <td>1.00</td>\n",
       "    </tr>\n",
       "    <tr>\n",
       "      <th>...</th>\n",
       "      <td>...</td>\n",
       "      <td>...</td>\n",
       "    </tr>\n",
       "    <tr>\n",
       "      <th>42015.0</th>\n",
       "      <td>functional</td>\n",
       "      <td>0.96</td>\n",
       "    </tr>\n",
       "    <tr>\n",
       "      <th>27906.0</th>\n",
       "      <td>non functional</td>\n",
       "      <td>1.00</td>\n",
       "    </tr>\n",
       "    <tr>\n",
       "      <th>50523.0</th>\n",
       "      <td>functional</td>\n",
       "      <td>1.00</td>\n",
       "    </tr>\n",
       "    <tr>\n",
       "      <th>73846.0</th>\n",
       "      <td>functional</td>\n",
       "      <td>1.00</td>\n",
       "    </tr>\n",
       "    <tr>\n",
       "      <th>42110.0</th>\n",
       "      <td>functional</td>\n",
       "      <td>1.00</td>\n",
       "    </tr>\n",
       "  </tbody>\n",
       "</table>\n",
       "<p>2605 rows × 2 columns</p>\n",
       "</div>"
      ],
      "text/plain": [
       "                  y_val  y_pred_proba\n",
       "id                                   \n",
       "71755.0      functional          1.00\n",
       "19821.0      functional          1.00\n",
       "25975.0      functional          1.00\n",
       "52838.0      functional          1.00\n",
       "42806.0      functional          1.00\n",
       "...                 ...           ...\n",
       "42015.0      functional          0.96\n",
       "27906.0  non functional          1.00\n",
       "50523.0      functional          1.00\n",
       "73846.0      functional          1.00\n",
       "42110.0      functional          1.00\n",
       "\n",
       "[2605 rows x 2 columns]"
      ]
     },
     "execution_count": 24,
     "metadata": {},
     "output_type": "execute_result"
    }
   ],
   "source": [
    "data = {'y_val': y_val,\n",
    "        'y_pred_proba': model.predict_proba(X_val)[:,0]}\n",
    "X_test_nf = pd.DataFrame(data)\n",
    "threshold = .95\n",
    "mask = X_test_nf['y_pred_proba'] > threshold\n",
    "X_test_nf = X_test_nf[mask]\n",
    "X_test_nf"
   ]
  },
  {
   "cell_type": "markdown",
   "metadata": {},
   "source": [
    "**Task 10:** Limit `X_test_nf` to the 100 pumps with the largest associated populations."
   ]
  },
  {
   "cell_type": "code",
   "execution_count": 18,
   "metadata": {},
   "outputs": [
    {
     "data": {
      "text/html": [
       "<div>\n",
       "<style scoped>\n",
       "    .dataframe tbody tr th:only-of-type {\n",
       "        vertical-align: middle;\n",
       "    }\n",
       "\n",
       "    .dataframe tbody tr th {\n",
       "        vertical-align: top;\n",
       "    }\n",
       "\n",
       "    .dataframe thead th {\n",
       "        text-align: right;\n",
       "    }\n",
       "</style>\n",
       "<table border=\"1\" class=\"dataframe\">\n",
       "  <thead>\n",
       "    <tr style=\"text-align: right;\">\n",
       "      <th></th>\n",
       "      <th>y_val</th>\n",
       "      <th>y_pred_proba</th>\n",
       "      <th>amount_tsh</th>\n",
       "      <th>gps_height</th>\n",
       "      <th>longitude</th>\n",
       "      <th>latitude</th>\n",
       "      <th>num_private</th>\n",
       "      <th>basin</th>\n",
       "      <th>region</th>\n",
       "      <th>region_code</th>\n",
       "      <th>...</th>\n",
       "      <th>payment_type</th>\n",
       "      <th>water_quality</th>\n",
       "      <th>quality_group</th>\n",
       "      <th>quantity</th>\n",
       "      <th>source</th>\n",
       "      <th>source_type</th>\n",
       "      <th>source_class</th>\n",
       "      <th>waterpoint_type</th>\n",
       "      <th>waterpoint_type_group</th>\n",
       "      <th>status_group</th>\n",
       "    </tr>\n",
       "    <tr>\n",
       "      <th>id</th>\n",
       "      <th></th>\n",
       "      <th></th>\n",
       "      <th></th>\n",
       "      <th></th>\n",
       "      <th></th>\n",
       "      <th></th>\n",
       "      <th></th>\n",
       "      <th></th>\n",
       "      <th></th>\n",
       "      <th></th>\n",
       "      <th></th>\n",
       "      <th></th>\n",
       "      <th></th>\n",
       "      <th></th>\n",
       "      <th></th>\n",
       "      <th></th>\n",
       "      <th></th>\n",
       "      <th></th>\n",
       "      <th></th>\n",
       "      <th></th>\n",
       "      <th></th>\n",
       "    </tr>\n",
       "  </thead>\n",
       "  <tbody>\n",
       "    <tr>\n",
       "      <th>5182.0</th>\n",
       "      <td>non functional</td>\n",
       "      <td>0.96</td>\n",
       "      <td>NaN</td>\n",
       "      <td>118.0</td>\n",
       "      <td>39.148467</td>\n",
       "      <td>-7.658081</td>\n",
       "      <td>NaN</td>\n",
       "      <td>Rufiji</td>\n",
       "      <td>Pwani</td>\n",
       "      <td>60</td>\n",
       "      <td>...</td>\n",
       "      <td>never pay</td>\n",
       "      <td>soft</td>\n",
       "      <td>good</td>\n",
       "      <td>seasonal</td>\n",
       "      <td>dam</td>\n",
       "      <td>dam</td>\n",
       "      <td>surface</td>\n",
       "      <td>communal standpipe multiple</td>\n",
       "      <td>communal standpipe</td>\n",
       "      <td>non functional</td>\n",
       "    </tr>\n",
       "    <tr>\n",
       "      <th>1190.0</th>\n",
       "      <td>non functional</td>\n",
       "      <td>0.96</td>\n",
       "      <td>NaN</td>\n",
       "      <td>1403.0</td>\n",
       "      <td>37.610941</td>\n",
       "      <td>-3.144554</td>\n",
       "      <td>NaN</td>\n",
       "      <td>Pangani</td>\n",
       "      <td>Kilimanjaro</td>\n",
       "      <td>3</td>\n",
       "      <td>...</td>\n",
       "      <td>never pay</td>\n",
       "      <td>soft</td>\n",
       "      <td>good</td>\n",
       "      <td>enough</td>\n",
       "      <td>spring</td>\n",
       "      <td>spring</td>\n",
       "      <td>groundwater</td>\n",
       "      <td>communal standpipe</td>\n",
       "      <td>communal standpipe</td>\n",
       "      <td>non functional</td>\n",
       "    </tr>\n",
       "    <tr>\n",
       "      <th>55473.0</th>\n",
       "      <td>non functional</td>\n",
       "      <td>1.00</td>\n",
       "      <td>NaN</td>\n",
       "      <td>243.0</td>\n",
       "      <td>39.125787</td>\n",
       "      <td>-10.429525</td>\n",
       "      <td>NaN</td>\n",
       "      <td>Ruvuma / Southern Coast</td>\n",
       "      <td>Mtwara</td>\n",
       "      <td>90</td>\n",
       "      <td>...</td>\n",
       "      <td>never pay</td>\n",
       "      <td>soft</td>\n",
       "      <td>good</td>\n",
       "      <td>dry</td>\n",
       "      <td>spring</td>\n",
       "      <td>spring</td>\n",
       "      <td>groundwater</td>\n",
       "      <td>communal standpipe multiple</td>\n",
       "      <td>communal standpipe</td>\n",
       "      <td>non functional</td>\n",
       "    </tr>\n",
       "    <tr>\n",
       "      <th>21952.0</th>\n",
       "      <td>non functional</td>\n",
       "      <td>0.96</td>\n",
       "      <td>NaN</td>\n",
       "      <td>1757.0</td>\n",
       "      <td>37.493720</td>\n",
       "      <td>-3.253344</td>\n",
       "      <td>NaN</td>\n",
       "      <td>Pangani</td>\n",
       "      <td>Kilimanjaro</td>\n",
       "      <td>3</td>\n",
       "      <td>...</td>\n",
       "      <td>never pay</td>\n",
       "      <td>soft</td>\n",
       "      <td>good</td>\n",
       "      <td>enough</td>\n",
       "      <td>spring</td>\n",
       "      <td>spring</td>\n",
       "      <td>groundwater</td>\n",
       "      <td>other</td>\n",
       "      <td>other</td>\n",
       "      <td>non functional</td>\n",
       "    </tr>\n",
       "    <tr>\n",
       "      <th>49933.0</th>\n",
       "      <td>non functional</td>\n",
       "      <td>1.00</td>\n",
       "      <td>NaN</td>\n",
       "      <td>1427.0</td>\n",
       "      <td>34.501954</td>\n",
       "      <td>-4.825662</td>\n",
       "      <td>NaN</td>\n",
       "      <td>Internal</td>\n",
       "      <td>Singida</td>\n",
       "      <td>13</td>\n",
       "      <td>...</td>\n",
       "      <td>unknown</td>\n",
       "      <td>unknown</td>\n",
       "      <td>unknown</td>\n",
       "      <td>dry</td>\n",
       "      <td>shallow well</td>\n",
       "      <td>shallow well</td>\n",
       "      <td>groundwater</td>\n",
       "      <td>other</td>\n",
       "      <td>other</td>\n",
       "      <td>non functional</td>\n",
       "    </tr>\n",
       "    <tr>\n",
       "      <th>...</th>\n",
       "      <td>...</td>\n",
       "      <td>...</td>\n",
       "      <td>...</td>\n",
       "      <td>...</td>\n",
       "      <td>...</td>\n",
       "      <td>...</td>\n",
       "      <td>...</td>\n",
       "      <td>...</td>\n",
       "      <td>...</td>\n",
       "      <td>...</td>\n",
       "      <td>...</td>\n",
       "      <td>...</td>\n",
       "      <td>...</td>\n",
       "      <td>...</td>\n",
       "      <td>...</td>\n",
       "      <td>...</td>\n",
       "      <td>...</td>\n",
       "      <td>...</td>\n",
       "      <td>...</td>\n",
       "      <td>...</td>\n",
       "      <td>...</td>\n",
       "    </tr>\n",
       "    <tr>\n",
       "      <th>56566.0</th>\n",
       "      <td>non functional</td>\n",
       "      <td>1.00</td>\n",
       "      <td>NaN</td>\n",
       "      <td>1523.0</td>\n",
       "      <td>34.744543</td>\n",
       "      <td>-5.031195</td>\n",
       "      <td>NaN</td>\n",
       "      <td>Internal</td>\n",
       "      <td>Singida</td>\n",
       "      <td>13</td>\n",
       "      <td>...</td>\n",
       "      <td>unknown</td>\n",
       "      <td>soft</td>\n",
       "      <td>good</td>\n",
       "      <td>dry</td>\n",
       "      <td>shallow well</td>\n",
       "      <td>shallow well</td>\n",
       "      <td>groundwater</td>\n",
       "      <td>other</td>\n",
       "      <td>other</td>\n",
       "      <td>non functional</td>\n",
       "    </tr>\n",
       "    <tr>\n",
       "      <th>8334.0</th>\n",
       "      <td>non functional</td>\n",
       "      <td>0.96</td>\n",
       "      <td>NaN</td>\n",
       "      <td>1706.0</td>\n",
       "      <td>37.493785</td>\n",
       "      <td>-3.259454</td>\n",
       "      <td>NaN</td>\n",
       "      <td>Pangani</td>\n",
       "      <td>Kilimanjaro</td>\n",
       "      <td>3</td>\n",
       "      <td>...</td>\n",
       "      <td>never pay</td>\n",
       "      <td>soft</td>\n",
       "      <td>good</td>\n",
       "      <td>enough</td>\n",
       "      <td>spring</td>\n",
       "      <td>spring</td>\n",
       "      <td>groundwater</td>\n",
       "      <td>other</td>\n",
       "      <td>other</td>\n",
       "      <td>non functional</td>\n",
       "    </tr>\n",
       "    <tr>\n",
       "      <th>2538.0</th>\n",
       "      <td>non functional</td>\n",
       "      <td>1.00</td>\n",
       "      <td>3000.0</td>\n",
       "      <td>894.0</td>\n",
       "      <td>35.395640</td>\n",
       "      <td>-7.651388</td>\n",
       "      <td>NaN</td>\n",
       "      <td>Rufiji</td>\n",
       "      <td>Iringa</td>\n",
       "      <td>11</td>\n",
       "      <td>...</td>\n",
       "      <td>annually</td>\n",
       "      <td>soft</td>\n",
       "      <td>good</td>\n",
       "      <td>dry</td>\n",
       "      <td>spring</td>\n",
       "      <td>spring</td>\n",
       "      <td>groundwater</td>\n",
       "      <td>communal standpipe</td>\n",
       "      <td>communal standpipe</td>\n",
       "      <td>non functional</td>\n",
       "    </tr>\n",
       "    <tr>\n",
       "      <th>7727.0</th>\n",
       "      <td>non functional</td>\n",
       "      <td>1.00</td>\n",
       "      <td>NaN</td>\n",
       "      <td>405.0</td>\n",
       "      <td>38.684909</td>\n",
       "      <td>-10.745056</td>\n",
       "      <td>NaN</td>\n",
       "      <td>Ruvuma / Southern Coast</td>\n",
       "      <td>Mtwara</td>\n",
       "      <td>90</td>\n",
       "      <td>...</td>\n",
       "      <td>unknown</td>\n",
       "      <td>soft</td>\n",
       "      <td>good</td>\n",
       "      <td>dry</td>\n",
       "      <td>shallow well</td>\n",
       "      <td>shallow well</td>\n",
       "      <td>groundwater</td>\n",
       "      <td>other</td>\n",
       "      <td>other</td>\n",
       "      <td>non functional</td>\n",
       "    </tr>\n",
       "    <tr>\n",
       "      <th>36748.0</th>\n",
       "      <td>non functional</td>\n",
       "      <td>0.96</td>\n",
       "      <td>NaN</td>\n",
       "      <td>380.0</td>\n",
       "      <td>37.442596</td>\n",
       "      <td>-6.306453</td>\n",
       "      <td>NaN</td>\n",
       "      <td>Wami / Ruvu</td>\n",
       "      <td>Morogoro</td>\n",
       "      <td>5</td>\n",
       "      <td>...</td>\n",
       "      <td>never pay</td>\n",
       "      <td>salty</td>\n",
       "      <td>salty</td>\n",
       "      <td>dry</td>\n",
       "      <td>other</td>\n",
       "      <td>other</td>\n",
       "      <td>unknown</td>\n",
       "      <td>other</td>\n",
       "      <td>other</td>\n",
       "      <td>non functional</td>\n",
       "    </tr>\n",
       "  </tbody>\n",
       "</table>\n",
       "<p>100 rows × 31 columns</p>\n",
       "</div>"
      ],
      "text/plain": [
       "                  y_val  y_pred_proba  amount_tsh  gps_height  longitude  \\\n",
       "id                                                                         \n",
       "5182.0   non functional          0.96         NaN       118.0  39.148467   \n",
       "1190.0   non functional          0.96         NaN      1403.0  37.610941   \n",
       "55473.0  non functional          1.00         NaN       243.0  39.125787   \n",
       "21952.0  non functional          0.96         NaN      1757.0  37.493720   \n",
       "49933.0  non functional          1.00         NaN      1427.0  34.501954   \n",
       "...                 ...           ...         ...         ...        ...   \n",
       "56566.0  non functional          1.00         NaN      1523.0  34.744543   \n",
       "8334.0   non functional          0.96         NaN      1706.0  37.493785   \n",
       "2538.0   non functional          1.00      3000.0       894.0  35.395640   \n",
       "7727.0   non functional          1.00         NaN       405.0  38.684909   \n",
       "36748.0  non functional          0.96         NaN       380.0  37.442596   \n",
       "\n",
       "          latitude  num_private                    basin       region  \\\n",
       "id                                                                      \n",
       "5182.0   -7.658081          NaN                   Rufiji        Pwani   \n",
       "1190.0   -3.144554          NaN                  Pangani  Kilimanjaro   \n",
       "55473.0 -10.429525          NaN  Ruvuma / Southern Coast       Mtwara   \n",
       "21952.0  -3.253344          NaN                  Pangani  Kilimanjaro   \n",
       "49933.0  -4.825662          NaN                 Internal      Singida   \n",
       "...            ...          ...                      ...          ...   \n",
       "56566.0  -5.031195          NaN                 Internal      Singida   \n",
       "8334.0   -3.259454          NaN                  Pangani  Kilimanjaro   \n",
       "2538.0   -7.651388          NaN                   Rufiji       Iringa   \n",
       "7727.0  -10.745056          NaN  Ruvuma / Southern Coast       Mtwara   \n",
       "36748.0  -6.306453          NaN              Wami / Ruvu     Morogoro   \n",
       "\n",
       "         region_code  ...  payment_type  water_quality quality_group  \\\n",
       "id                    ...                                              \n",
       "5182.0            60  ...     never pay           soft          good   \n",
       "1190.0             3  ...     never pay           soft          good   \n",
       "55473.0           90  ...     never pay           soft          good   \n",
       "21952.0            3  ...     never pay           soft          good   \n",
       "49933.0           13  ...       unknown        unknown       unknown   \n",
       "...              ...  ...           ...            ...           ...   \n",
       "56566.0           13  ...       unknown           soft          good   \n",
       "8334.0             3  ...     never pay           soft          good   \n",
       "2538.0            11  ...      annually           soft          good   \n",
       "7727.0            90  ...       unknown           soft          good   \n",
       "36748.0            5  ...     never pay          salty         salty   \n",
       "\n",
       "         quantity        source   source_type source_class  \\\n",
       "id                                                           \n",
       "5182.0   seasonal           dam           dam      surface   \n",
       "1190.0     enough        spring        spring  groundwater   \n",
       "55473.0       dry        spring        spring  groundwater   \n",
       "21952.0    enough        spring        spring  groundwater   \n",
       "49933.0       dry  shallow well  shallow well  groundwater   \n",
       "...           ...           ...           ...          ...   \n",
       "56566.0       dry  shallow well  shallow well  groundwater   \n",
       "8334.0     enough        spring        spring  groundwater   \n",
       "2538.0        dry        spring        spring  groundwater   \n",
       "7727.0        dry  shallow well  shallow well  groundwater   \n",
       "36748.0       dry         other         other      unknown   \n",
       "\n",
       "                     waterpoint_type waterpoint_type_group    status_group  \n",
       "id                                                                          \n",
       "5182.0   communal standpipe multiple    communal standpipe  non functional  \n",
       "1190.0            communal standpipe    communal standpipe  non functional  \n",
       "55473.0  communal standpipe multiple    communal standpipe  non functional  \n",
       "21952.0                        other                 other  non functional  \n",
       "49933.0                        other                 other  non functional  \n",
       "...                              ...                   ...             ...  \n",
       "56566.0                        other                 other  non functional  \n",
       "8334.0                         other                 other  non functional  \n",
       "2538.0            communal standpipe    communal standpipe  non functional  \n",
       "7727.0                         other                 other  non functional  \n",
       "36748.0                        other                 other  non functional  \n",
       "\n",
       "[100 rows x 31 columns]"
      ]
     },
     "execution_count": 18,
     "metadata": {},
     "output_type": "execute_result"
    }
   ],
   "source": [
    "final = X_test_nf.merge(df, right_index= True, left_index= True)\n",
    "plot = final.sort_values(by = 'population').head(100)\n",
    "plot"
   ]
  },
  {
   "cell_type": "markdown",
   "metadata": {},
   "source": [
    "# VII. Communicate Results\n",
    "\n",
    "**Task 11 (`stretch goal`):** Create a scatter plot with the location of the 100 pumps in `X_test_nf`.\n",
    "\n",
    "**Note:** If you want to make this a **`super stretch goal`**, create a Mapbox scatter plot using [Plotly](https://plotly.github.io/plotly.py-docs/generated/plotly.express.scatter_mapbox.html)."
   ]
  },
  {
   "cell_type": "code",
   "execution_count": 19,
   "metadata": {},
   "outputs": [
    {
     "data": {
      "image/png": "[encoded data removed]",
      "text/plain": [
       "<Figure size 432x288 with 1 Axes>"
      ]
     },
     "metadata": {
      "needs_background": "light"
     },
     "output_type": "display_data"
    }
   ],
   "source": [
    "import matplotlib.pyplot as plt\n",
    "plt.scatter(plot['latitude'], plot['longitude'])\n",
    "plt.xlabel('latitude')\n",
    "plt.ylabel('longitude');"
   ]
  },
  {
   "cell_type": "code",
   "execution_count": 20,
   "metadata": {},
   "outputs": [
    {
     "data": {
      "application/vnd.plotly.v1+json": {
       "config": {
        "plotlyServerURL": "https://plot.ly"
       },
       "data": [
        {
         "hovertemplate": "status_group=non functional<br>latitude=%{lat}<br>longitude=%{lon}<extra></extra>",
         "lat": [
          -7.65808068,
          -3.14455387,
          -10.42952532,
          -3.25334355,
          -4.82566219,
          -7.36589219,
          -4.74165815,
          -4.76853052,
          -5.16873366,
          -10.81100362,
          -3.30289895,
          -3.26120619,
          -5.19786724,
          -5.07449747,
          -3.06754867,
          -10.60307966,
          -10.85846897,
          -4.5679844,
          -4.04961364,
          -4.97511584,
          -10.84385146,
          -11.01389652,
          -4.58719152,
          -11.07080196,
          -5.14010632,
          -4.75664056,
          -10.82021424,
          -6.31880291,
          -10.77131772,
          -3.21882592,
          -10.80344139,
          -7.36919161,
          -10.74002041,
          -5.08731907,
          -11.20577664,
          -10.79637349,
          -4.77048584,
          -6.93669338,
          -4.6580224,
          -4.8825035,
          -10.79190489,
          -3.19336605,
          -10.81076076,
          -5.07772093,
          -10.74784882,
          -5.138896400000001,
          -10.77403932,
          -7.61550022,
          -4.84848664,
          -4.99721816,
          -10.893055699999998,
          -6.94479491,
          -8.01105941,
          -10.87068222,
          -8.14293746,
          -4.66990505,
          -3.25618333,
          -4.82985574,
          -7.77231418,
          -4.56929062,
          -7.18515901,
          -2.98199964,
          -4.48624282,
          -7.36352968,
          -10.80052368,
          -10.76241282,
          -7.88984728,
          -10.98193198,
          -11.0659473,
          -11.11221997,
          -3.33523729,
          -4.65676478,
          -3.21434372,
          -4.98246166,
          -3.23766793,
          -11.03764466,
          -4.2318557,
          -6.94365735,
          -3.18838877,
          -4.58048254,
          -3.32394614,
          -3.23627766,
          -3.16739422,
          -5.02231118,
          -5.03415962,
          -10.7697669,
          -3.26946136,
          -5.00823996,
          -7.83752945,
          -3.15152379,
          -5.19723679,
          -10.84269475,
          -10.90727959,
          -3.28586016,
          -5.03119481,
          -3.25945426,
          -7.65138835,
          -10.74505626,
          -6.30645347
         ],
         "legendgroup": "non functional",
         "lon": [
          39.14846671,
          37.61094106,
          39.12578720000001,
          37.49372025,
          34.501954100000006,
          31.11640811,
          34.82948092,
          34.57777022,
          34.62044752,
          39.52690833,
          37.37563170000001,
          37.48962543,
          34.78863748,
          34.7591591,
          37.64903984,
          38.89004857,
          38.94558024,
          34.72721122,
          35.37083433,
          34.99189304,
          39.04538875,
          39.166617,
          34.99026311,
          34.87855784,
          34.77200417,
          34.57458433,
          39.80329186,
          37.37861011,
          39.48139316,
          37.30044248,
          39.06470527,
          30.62300555,
          39.77746351,
          34.97404408,
          37.33735934,
          36.96400449,
          34.87991105,
          37.53704104,
          38.37438474,
          38.34384013,
          38.6221564,
          37.67764576,
          39.65645449,
          34.82702802,
          38.68037953,
          34.95838392,
          39.81079752,
          39.01118654,
          34.952561,
          34.76755659,
          39.68275757,
          39.18065164,
          38.85779802,
          38.94906178,
          39.17594436,
          34.915841,
          37.52819455,
          34.96024293,
          35.19178314,
          34.72852643,
          35.69485484,
          37.54943051,
          34.96269677,
          30.61916597,
          39.87912886,
          38.63113121,
          35.59943889,
          38.09198733,
          39.32321852,
          39.05690382,
          37.40264282,
          34.90592868,
          37.29729296,
          34.99689935,
          37.30707259,
          34.90647767,
          35.584644899999994,
          38.71243288,
          37.60863716,
          34.73068809,
          37.13374255,
          37.28660651,
          37.59068766,
          39.05588443,
          34.89952415,
          39.75775939,
          37.65212539,
          34.75372251,
          35.63859092,
          37.61703693,
          34.78546064,
          39.76965086,
          39.07539462,
          37.50996144,
          34.74454301,
          37.49378451,
          35.39563966,
          38.68490873,
          37.44259594
         ],
         "marker": {
          "color": "#636efa"
         },
         "mode": "markers",
         "name": "non functional",
         "showlegend": true,
         "subplot": "mapbox",
         "type": "scattermapbox"
        },
        {
         "hovertemplate": "status_group=functional<br>latitude=%{lat}<br>longitude=%{lon}<extra></extra>",
         "lat": [
          -3.15109135
         ],
         "legendgroup": "functional",
         "lon": [
          37.60523368
         ],
         "marker": {
          "color": "#EF553B"
         },
         "mode": "markers",
         "name": "functional",
         "showlegend": true,
         "subplot": "mapbox",
         "type": "scattermapbox"
        }
       ],
       "layout": {
        "legend": {
         "title": {
          "text": "status_group"
         },
         "tracegroupgap": 0
        },
        "mapbox": {
         "center": {
          "lat": -6.671092011,
          "lon": 36.8969493592
         },
         "domain": {
          "x": [
           0,
           1
          ],
          "y": [
           0,
           1
          ]
         },
         "style": "white-bg",
         "zoom": 8
        },
        "margin": {
         "t": 60
        },
        "template": {
         "data": {
          "bar": [
           {
            "error_x": {
             "color": "#2a3f5f"
            },
            "error_y": {
             "color": "#2a3f5f"
            },
            "marker": {
             "line": {
              "color": "#E5ECF6",
              "width": 0.5
             },
             "pattern": {
              "fillmode": "overlay",
              "size": 10,
              "solidity": 0.2
             }
            },
            "type": "bar"
           }
          ],
          "barpolar": [
           {
            "marker": {
             "line": {
              "color": "#E5ECF6",
              "width": 0.5
             },
             "pattern": {
              "fillmode": "overlay",
              "size": 10,
              "solidity": 0.2
             }
            },
            "type": "barpolar"
           }
          ],
          "carpet": [
           {
            "aaxis": {
             "endlinecolor": "#2a3f5f",
             "gridcolor": "white",
             "linecolor": "white",
             "minorgridcolor": "white",
             "startlinecolor": "#2a3f5f"
            },
            "baxis": {
             "endlinecolor": "#2a3f5f",
             "gridcolor": "white",
             "linecolor": "white",
             "minorgridcolor": "white",
             "startlinecolor": "#2a3f5f"
            },
            "type": "carpet"
           }
          ],
          "choropleth": [
           {
            "colorbar": {
             "outlinewidth": 0,
             "ticks": ""
            },
            "type": "choropleth"
           }
          ],
          "contour": [
           {
            "colorbar": {
             "outlinewidth": 0,
             "ticks": ""
            },
            "colorscale": [
             [
              0,
              "#0d0887"
             ],
             [
              0.1111111111111111,
              "#46039f"
             ],
             [
              0.2222222222222222,
              "#7201a8"
             ],
             [
              0.3333333333333333,
              "#9c179e"
             ],
             [
              0.4444444444444444,
              "#bd3786"
             ],
             [
              0.5555555555555556,
              "#d8576b"
             ],
             [
              0.6666666666666666,
              "#ed7953"
             ],
             [
              0.7777777777777778,
              "#fb9f3a"
             ],
             [
              0.8888888888888888,
              "#fdca26"
             ],
             [
              1,
              "#f0f921"
             ]
            ],
            "type": "contour"
           }
          ],
          "contourcarpet": [
           {
            "colorbar": {
             "outlinewidth": 0,
             "ticks": ""
            },
            "type": "contourcarpet"
           }
          ],
          "heatmap": [
           {
            "colorbar": {
             "outlinewidth": 0,
             "ticks": ""
            },
            "colorscale": [
             [
              0,
              "#0d0887"
             ],
             [
              0.1111111111111111,
              "#46039f"
             ],
             [
              0.2222222222222222,
              "#7201a8"
             ],
             [
              0.3333333333333333,
              "#9c179e"
             ],
             [
              0.4444444444444444,
              "#bd3786"
             ],
             [
              0.5555555555555556,
              "#d8576b"
             ],
             [
              0.6666666666666666,
              "#ed7953"
             ],
             [
              0.7777777777777778,
              "#fb9f3a"
             ],
             [
              0.8888888888888888,
              "#fdca26"
             ],
             [
              1,
              "#f0f921"
             ]
            ],
            "type": "heatmap"
           }
          ],
          "heatmapgl": [
           {
            "colorbar": {
             "outlinewidth": 0,
             "ticks": ""
            },
            "colorscale": [
             [
              0,
              "#0d0887"
             ],
             [
              0.1111111111111111,
              "#46039f"
             ],
             [
              0.2222222222222222,
              "#7201a8"
             ],
             [
              0.3333333333333333,
              "#9c179e"
             ],
             [
              0.4444444444444444,
              "#bd3786"
             ],
             [
              0.5555555555555556,
              "#d8576b"
             ],
             [
              0.6666666666666666,
              "#ed7953"
             ],
             [
              0.7777777777777778,
              "#fb9f3a"
             ],
             [
              0.8888888888888888,
              "#fdca26"
             ],
             [
              1,
              "#f0f921"
             ]
            ],
            "type": "heatmapgl"
           }
          ],
          "histogram": [
           {
            "marker": {
             "pattern": {
              "fillmode": "overlay",
              "size": 10,
              "solidity": 0.2
             }
            },
            "type": "histogram"
           }
          ],
          "histogram2d": [
           {
            "colorbar": {
             "outlinewidth": 0,
             "ticks": ""
            },
            "colorscale": [
             [
              0,
              "#0d0887"
             ],
             [
              0.1111111111111111,
              "#46039f"
             ],
             [
              0.2222222222222222,
              "#7201a8"
             ],
             [
              0.3333333333333333,
              "#9c179e"
             ],
             [
              0.4444444444444444,
              "#bd3786"
             ],
             [
              0.5555555555555556,
              "#d8576b"
             ],
             [
              0.6666666666666666,
              "#ed7953"
             ],
             [
              0.7777777777777778,
              "#fb9f3a"
             ],
             [
              0.8888888888888888,
              "#fdca26"
             ],
             [
              1,
              "#f0f921"
             ]
            ],
            "type": "histogram2d"
           }
          ],
          "histogram2dcontour": [
           {
            "colorbar": {
             "outlinewidth": 0,
             "ticks": ""
            },
            "colorscale": [
             [
              0,
              "#0d0887"
             ],
             [
              0.1111111111111111,
              "#46039f"
             ],
             [
              0.2222222222222222,
              "#7201a8"
             ],
             [
              0.3333333333333333,
              "#9c179e"
             ],
             [
              0.4444444444444444,
              "#bd3786"
             ],
             [
              0.5555555555555556,
              "#d8576b"
             ],
             [
              0.6666666666666666,
              "#ed7953"
             ],
             [
              0.7777777777777778,
              "#fb9f3a"
             ],
             [
              0.8888888888888888,
              "#fdca26"
             ],
             [
              1,
              "#f0f921"
             ]
            ],
            "type": "histogram2dcontour"
           }
          ],
          "mesh3d": [
           {
            "colorbar": {
             "outlinewidth": 0,
             "ticks": ""
            },
            "type": "mesh3d"
           }
          ],
          "parcoords": [
           {
            "line": {
             "colorbar": {
              "outlinewidth": 0,
              "ticks": ""
             }
            },
            "type": "parcoords"
           }
          ],
          "pie": [
           {
            "automargin": true,
            "type": "pie"
           }
          ],
          "scatter": [
           {
            "marker": {
             "colorbar": {
              "outlinewidth": 0,
              "ticks": ""
             }
            },
            "type": "scatter"
           }
          ],
          "scatter3d": [
           {
            "line": {
             "colorbar": {
              "outlinewidth": 0,
              "ticks": ""
             }
            },
            "marker": {
             "colorbar": {
              "outlinewidth": 0,
              "ticks": ""
             }
            },
            "type": "scatter3d"
           }
          ],
          "scattercarpet": [
           {
            "marker": {
             "colorbar": {
              "outlinewidth": 0,
              "ticks": ""
             }
            },
            "type": "scattercarpet"
           }
          ],
          "scattergeo": [
           {
            "marker": {
             "colorbar": {
              "outlinewidth": 0,
              "ticks": ""
             }
            },
            "type": "scattergeo"
           }
          ],
          "scattergl": [
           {
            "marker": {
             "colorbar": {
              "outlinewidth": 0,
              "ticks": ""
             }
            },
            "type": "scattergl"
           }
          ],
          "scattermapbox": [
           {
            "marker": {
             "colorbar": {
              "outlinewidth": 0,
              "ticks": ""
             }
            },
            "type": "scattermapbox"
           }
          ],
          "scatterpolar": [
           {
            "marker": {
             "colorbar": {
              "outlinewidth": 0,
              "ticks": ""
             }
            },
            "type": "scatterpolar"
           }
          ],
          "scatterpolargl": [
           {
            "marker": {
             "colorbar": {
              "outlinewidth": 0,
              "ticks": ""
             }
            },
            "type": "scatterpolargl"
           }
          ],
          "scatterternary": [
           {
            "marker": {
             "colorbar": {
              "outlinewidth": 0,
              "ticks": ""
             }
            },
            "type": "scatterternary"
           }
          ],
          "surface": [
           {
            "colorbar": {
             "outlinewidth": 0,
             "ticks": ""
            },
            "colorscale": [
             [
              0,
              "#0d0887"
             ],
             [
              0.1111111111111111,
              "#46039f"
             ],
             [
              0.2222222222222222,
              "#7201a8"
             ],
             [
              0.3333333333333333,
              "#9c179e"
             ],
             [
              0.4444444444444444,
              "#bd3786"
             ],
             [
              0.5555555555555556,
              "#d8576b"
             ],
             [
              0.6666666666666666,
              "#ed7953"
             ],
             [
              0.7777777777777778,
              "#fb9f3a"
             ],
             [
              0.8888888888888888,
              "#fdca26"
             ],
             [
              1,
              "#f0f921"
             ]
            ],
            "type": "surface"
           }
          ],
          "table": [
           {
            "cells": {
             "fill": {
              "color": "#EBF0F8"
             },
             "line": {
              "color": "white"
             }
            },
            "header": {
             "fill": {
              "color": "#C8D4E3"
             },
             "line": {
              "color": "white"
             }
            },
            "type": "table"
           }
          ]
         },
         "layout": {
          "annotationdefaults": {
           "arrowcolor": "#2a3f5f",
           "arrowhead": 0,
           "arrowwidth": 1
          },
          "autotypenumbers": "strict",
          "coloraxis": {
           "colorbar": {
            "outlinewidth": 0,
            "ticks": ""
           }
          },
          "colorscale": {
           "diverging": [
            [
             0,
             "#8e0152"
            ],
            [
             0.1,
             "#c51b7d"
            ],
            [
             0.2,
             "#de77ae"
            ],
            [
             0.3,
             "#f1b6da"
            ],
            [
             0.4,
             "#fde0ef"
            ],
            [
             0.5,
             "#f7f7f7"
            ],
            [
             0.6,
             "#e6f5d0"
            ],
            [
             0.7,
             "#b8e186"
            ],
            [
             0.8,
             "#7fbc41"
            ],
            [
             0.9,
             "#4d9221"
            ],
            [
             1,
             "#276419"
            ]
           ],
           "sequential": [
            [
             0,
             "#0d0887"
            ],
            [
             0.1111111111111111,
             "#46039f"
            ],
            [
             0.2222222222222222,
             "#7201a8"
            ],
            [
             0.3333333333333333,
             "#9c179e"
            ],
            [
             0.4444444444444444,
             "#bd3786"
            ],
            [
             0.5555555555555556,
             "#d8576b"
            ],
            [
             0.6666666666666666,
             "#ed7953"
            ],
            [
             0.7777777777777778,
             "#fb9f3a"
            ],
            [
             0.8888888888888888,
             "#fdca26"
            ],
            [
             1,
             "#f0f921"
            ]
           ],
           "sequentialminus": [
            [
             0,
             "#0d0887"
            ],
            [
             0.1111111111111111,
             "#46039f"
            ],
            [
             0.2222222222222222,
             "#7201a8"
            ],
            [
             0.3333333333333333,
             "#9c179e"
            ],
            [
             0.4444444444444444,
             "#bd3786"
            ],
            [
             0.5555555555555556,
             "#d8576b"
            ],
            [
             0.6666666666666666,
             "#ed7953"
            ],
            [
             0.7777777777777778,
             "#fb9f3a"
            ],
            [
             0.8888888888888888,
             "#fdca26"
            ],
            [
             1,
             "#f0f921"
            ]
           ]
          },
          "colorway": [
           "#636efa",
           "#EF553B",
           "#00cc96",
           "#ab63fa",
           "#FFA15A",
           "#19d3f3",
           "#FF6692",
           "#B6E880",
           "#FF97FF",
           "#FECB52"
          ],
          "font": {
           "color": "#2a3f5f"
          },
          "geo": {
           "bgcolor": "white",
           "lakecolor": "white",
           "landcolor": "#E5ECF6",
           "showlakes": true,
           "showland": true,
           "subunitcolor": "white"
          },
          "hoverlabel": {
           "align": "left"
          },
          "hovermode": "closest",
          "mapbox": {
           "style": "light"
          },
          "paper_bgcolor": "white",
          "plot_bgcolor": "#E5ECF6",
          "polar": {
           "angularaxis": {
            "gridcolor": "white",
            "linecolor": "white",
            "ticks": ""
           },
           "bgcolor": "#E5ECF6",
           "radialaxis": {
            "gridcolor": "white",
            "linecolor": "white",
            "ticks": ""
           }
          },
          "scene": {
           "xaxis": {
            "backgroundcolor": "#E5ECF6",
            "gridcolor": "white",
            "gridwidth": 2,
            "linecolor": "white",
            "showbackground": true,
            "ticks": "",
            "zerolinecolor": "white"
           },
           "yaxis": {
            "backgroundcolor": "#E5ECF6",
            "gridcolor": "white",
            "gridwidth": 2,
            "linecolor": "white",
            "showbackground": true,
            "ticks": "",
            "zerolinecolor": "white"
           },
           "zaxis": {
            "backgroundcolor": "#E5ECF6",
            "gridcolor": "white",
            "gridwidth": 2,
            "linecolor": "white",
            "showbackground": true,
            "ticks": "",
            "zerolinecolor": "white"
           }
          },
          "shapedefaults": {
           "line": {
            "color": "#2a3f5f"
           }
          },
          "ternary": {
           "aaxis": {
            "gridcolor": "white",
            "linecolor": "white",
            "ticks": ""
           },
           "baxis": {
            "gridcolor": "white",
            "linecolor": "white",
            "ticks": ""
           },
           "bgcolor": "#E5ECF6",
           "caxis": {
            "gridcolor": "white",
            "linecolor": "white",
            "ticks": ""
           }
          },
          "title": {
           "x": 0.05
          },
          "xaxis": {
           "automargin": true,
           "gridcolor": "white",
           "linecolor": "white",
           "ticks": "",
           "title": {
            "standoff": 15
           },
           "zerolinecolor": "white",
           "zerolinewidth": 2
          },
          "yaxis": {
           "automargin": true,
           "gridcolor": "white",
           "linecolor": "white",
           "ticks": "",
           "title": {
            "standoff": 15
           },
           "zerolinecolor": "white",
           "zerolinewidth": 2
          }
         }
        }
       }
      }
     },
     "metadata": {},
     "output_type": "display_data"
    }
   ],
   "source": [
    "import plotly.express as px\n",
    "\n",
    "fig = px.scatter_mapbox(plot, lat = plot.latitude, lon = plot.longitude, color = plot.status_group)\n",
    "fig.update_layout(mapbox_style = 'white-bg')\n",
    "fig.show()"
   ]
  },
  {
   "cell_type": "code",
   "execution_count": null,
   "metadata": {},
   "outputs": [],
   "source": []
  }
 ],
 "metadata": {
  "kernelspec": {
   "display_name": "Python 3",
   "language": "python",
   "name": "python3"
  },
  "language_info": {
   "codemirror_mode": {
    "name": "ipython",
    "version": 3
   },
   "file_extension": ".py",
   "mimetype": "text/x-python",
   "name": "python",
   "nbconvert_exporter": "python",
   "pygments_lexer": "ipython3",
   "version": "3.9.5"
  }
 },
 "nbformat": 4,
 "nbformat_minor": 1
}
