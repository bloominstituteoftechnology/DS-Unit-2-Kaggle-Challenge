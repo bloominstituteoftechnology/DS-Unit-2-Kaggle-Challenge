{
 "nbformat": 4,
 "nbformat_minor": 0,
 "metadata": {
  "colab": {
   "provenance": []
  },
  "kernelspec": {
   "name": "python3",
   "language": "python",
   "display_name": "Python 3 (ipykernel)"
  }
 },
 "cells": [
  {
   "cell_type": "markdown",
   "metadata": {
    "id": "RUhphDysw-6P"
   },
   "source": [
    "## BloomTech Data Science\n",
    "\n",
    "---\n"
   ]
  },
  {
   "cell_type": "markdown",
   "metadata": {
    "id": "NvWhcow-dvS8"
   },
   "source": [
    "# Decision Trees\n",
    "\n",
    "- clean data with **outliers and missing values**\n",
    "- use scikit-learn for **decision trees**\n",
    "- get and interpret **feature importances** of a tree-based model\n",
    "- understand why decision trees are useful to model"
   ]
  },
  {
   "cell_type": "code",
   "metadata": {
    "id": "HRgkCSgGdty-"
   },
   "source": [
    "%%capture\n",
    "!pip install category_encoders==2.*\n",
    "!pip install ydata_profiling==4.*"
   ],
   "execution_count": null,
   "outputs": []
  },
  {
   "cell_type": "code",
   "metadata": {
    "id": "Zp1eAYDMlLvn",
    "ExecuteTime": {
     "end_time": "2023-07-06T14:23:30.486403Z",
     "start_time": "2023-07-06T14:23:30.474290Z"
    }
   },
   "source": [
    "from sklearn.model_selection import train_test_split\n",
    "from sklearn.pipeline import make_pipeline\n",
    "from category_encoders import OneHotEncoder, OrdinalEncoder\n",
    "from sklearn.preprocessing import StandardScaler\n",
    "from sklearn.impute import SimpleImputer\n",
    "from sklearn.linear_model import LogisticRegression\n",
    "from sklearn.metrics import accuracy_score\n",
    "from sklearn.tree import DecisionTreeClassifier, plot_tree\n",
    "from ydata_profiling import ProfileReport\n",
    "import matplotlib.pyplot as plt\n",
    "import pandas as pd\n",
    "import numpy as np\n",
    "\n",
    "# pd.options.display.max_rows = 100"
   ],
   "execution_count": 2,
   "outputs": []
  },
  {
   "cell_type": "markdown",
   "metadata": {
    "id": "sUmaaCmCprYw"
   },
   "source": [
    "# Downloading the Tanzania Waterpump Dataset"
   ]
  },
  {
   "cell_type": "markdown",
   "metadata": {
    "id": "nUUieyFk5A9u"
   },
   "source": [
    "Make sure  you only use the dataset that is available through the **DS** **Kaggle Competition**. DO NOT USE any other Tanzania waterpump datasets that you might find online.\n",
    "\n",
    "There are two ways you can get the dataset. Make sure you have joined the competition first!:\n",
    "\n",
    "1. You can download the dataset directly by accessing the challenge and the files through the Kaggle Competition URL on Canvas (make sure you have joined the competition!)\n",
    "\n",
    "2. Use the Kaggle API using the code in the following cells. This article provides helpful information on how to fetch your Kaggle Dataset into Google Colab using the Kaggle API.\n",
    "\n",
    "> https://medium.com/analytics-vidhya/how-to-fetch-kaggle-datasets-into-google-colab-ea682569851a"
   ]
  },
  {
   "cell_type": "markdown",
   "metadata": {
    "id": "d6TZ5nDFYkCa"
   },
   "source": [
    "# Using Kaggle API to download dataset"
   ]
  },
  {
   "cell_type": "code",
   "metadata": {
    "id": "X2e6fPUATxLZ"
   },
   "source": [
    "# mounting your google drive on colab\n",
    "from google.colab import drive\n",
    "drive.mount('/content/gdrive')"
   ],
   "execution_count": null,
   "outputs": []
  },
  {
   "cell_type": "code",
   "source": [
    "from google.colab import drive\n",
    "drive.mount('/content/drive')"
   ],
   "metadata": {
    "id": "xKVUgI4vedVO"
   },
   "execution_count": null,
   "outputs": []
  },
  {
   "cell_type": "code",
   "metadata": {
    "id": "KYSpUv9uYBAo"
   },
   "source": [
    "#change your working directory, if you want to or have already saved your kaggle dataset on google drive.\n",
    "%cd /content/gdrive/My Drive/Kaggle\n",
    "# update it to your folder location on drive that contians the dataset and/or kaggle API token json file."
   ],
   "execution_count": null,
   "outputs": []
  },
  {
   "cell_type": "code",
   "metadata": {
    "id": "dXChvgdZYb_t"
   },
   "source": [
    "# Download your Kaggle Dataset, if you haven't already done so\n",
    "import os\n",
    "os.environ['KAGGLE_CONFIG_DIR'] = \"/content/gdrive/My Drive/Kaggle\" # providing the config path to kaggle.json\n",
    "!kaggle competitions download -c bloomtech-water-pump-challenge # downloading dataset by running the Kaggle API command"
   ],
   "execution_count": null,
   "outputs": []
  },
  {
   "cell_type": "code",
   "metadata": {
    "id": "NB84qgRRYdDF"
   },
   "source": [
    "# Unzip your Kaggle dataset, if you haven't already done so.\n",
    "# !unzip \\*.zip  && rm *.zip"
   ],
   "execution_count": null,
   "outputs": []
  },
  {
   "cell_type": "code",
   "metadata": {
    "id": "eag2zYiQYf6q"
   },
   "source": [
    "# List all files in your Kaggle folder on your google drive.\n",
    "!ls"
   ],
   "execution_count": null,
   "outputs": []
  },
  {
   "cell_type": "code",
   "source": [
    "train_features = pd.read_csv('train_features.csv')\n",
    "train_labels = pd.read_csv('train_labels.csv')\n",
    "test_features = pd.read_csv('test_features.csv')"
   ],
   "metadata": {
    "id": "hXpMHyrIzp0K"
   },
   "execution_count": null,
   "outputs": []
  },
  {
   "cell_type": "markdown",
   "source": [
    "### Data - Option 2\n",
    "If you're having trouble with getting the Kaggle data mounted in Google Drive, here's another option..."
   ],
   "metadata": {
    "collapsed": false
   }
  },
  {
   "cell_type": "code",
   "execution_count": 3,
   "outputs": [],
   "source": [
    "DATAPATH = \"https://raw.githubusercontent.com/bloominstituteoftechnology/DS-Unit-2-Kaggle-Challenge/master/data/kaggle/\""
   ],
   "metadata": {
    "collapsed": false,
    "ExecuteTime": {
     "end_time": "2023-07-06T14:24:40.976263Z",
     "start_time": "2023-07-06T14:24:40.972839Z"
    }
   }
  },
  {
   "cell_type": "code",
   "execution_count": 5,
   "outputs": [],
   "source": [
    "train_features = pd.read_csv(DATAPATH + 'train_features.csv')\n",
    "train_labels = pd.read_csv(DATAPATH + 'train_labels.csv')\n",
    "test_features = pd.read_csv(DATAPATH + 'test_features.csv')"
   ],
   "metadata": {
    "collapsed": false,
    "ExecuteTime": {
     "end_time": "2023-07-06T14:33:54.504912Z",
     "start_time": "2023-07-06T14:33:51.094703Z"
    }
   }
  },
  {
   "cell_type": "markdown",
   "source": [
    "# I. Wrangle Data\n"
   ],
   "metadata": {
    "collapsed": false
   }
  },
  {
   "cell_type": "code",
   "source": [
    "train_features.head()"
   ],
   "metadata": {
    "id": "UbOEOI0Sztn0",
    "ExecuteTime": {
     "end_time": "2023-07-06T14:33:55.961275Z",
     "start_time": "2023-07-06T14:33:55.951710Z"
    }
   },
   "execution_count": 6,
   "outputs": [
    {
     "data": {
      "text/plain": "      id  amount_tsh date_recorded        funder  gps_height     installer  \\\n0  69572      6000.0    2011-03-14         Roman        1390         Roman   \n1   8776         0.0    2013-03-06       Grumeti        1399       GRUMETI   \n2  34310        25.0    2013-02-25  Lottery Club         686  World vision   \n3  67743         0.0    2013-01-28        Unicef         263        UNICEF   \n4  19728         0.0    2011-07-13   Action In A           0       Artisan   \n\n   longitude   latitude              wpt_name  num_private  ... payment_type  \\\n0  34.938093  -9.856322                  none            0  ...     annually   \n1  34.698766  -2.147466              Zahanati            0  ...    never pay   \n2  37.460664  -3.821329           Kwa Mahundi            0  ...   per bucket   \n3  38.486161 -11.155298  Zahanati Ya Nanyumbu            0  ...    never pay   \n4  31.130847  -1.825359               Shuleni            0  ...    never pay   \n\n  water_quality quality_group      quantity  quantity_group  \\\n0          soft          good        enough          enough   \n1          soft          good  insufficient    insufficient   \n2          soft          good        enough          enough   \n3          soft          good           dry             dry   \n4          soft          good      seasonal        seasonal   \n\n                 source           source_type  source_class  \\\n0                spring                spring   groundwater   \n1  rainwater harvesting  rainwater harvesting       surface   \n2                   dam                   dam       surface   \n3           machine dbh              borehole   groundwater   \n4  rainwater harvesting  rainwater harvesting       surface   \n\n               waterpoint_type waterpoint_type_group  \n0           communal standpipe    communal standpipe  \n1           communal standpipe    communal standpipe  \n2  communal standpipe multiple    communal standpipe  \n3  communal standpipe multiple    communal standpipe  \n4           communal standpipe    communal standpipe  \n\n[5 rows x 40 columns]",
      "text/html": "<div>\n<style scoped>\n    .dataframe tbody tr th:only-of-type {\n        vertical-align: middle;\n    }\n\n    .dataframe tbody tr th {\n        vertical-align: top;\n    }\n\n    .dataframe thead th {\n        text-align: right;\n    }\n</style>\n<table border=\"1\" class=\"dataframe\">\n  <thead>\n    <tr style=\"text-align: right;\">\n      <th></th>\n      <th>id</th>\n      <th>amount_tsh</th>\n      <th>date_recorded</th>\n      <th>funder</th>\n      <th>gps_height</th>\n      <th>installer</th>\n      <th>longitude</th>\n      <th>latitude</th>\n      <th>wpt_name</th>\n      <th>num_private</th>\n      <th>...</th>\n      <th>payment_type</th>\n      <th>water_quality</th>\n      <th>quality_group</th>\n      <th>quantity</th>\n      <th>quantity_group</th>\n      <th>source</th>\n      <th>source_type</th>\n      <th>source_class</th>\n      <th>waterpoint_type</th>\n      <th>waterpoint_type_group</th>\n    </tr>\n  </thead>\n  <tbody>\n    <tr>\n      <th>0</th>\n      <td>69572</td>\n      <td>6000.0</td>\n      <td>2011-03-14</td>\n      <td>Roman</td>\n      <td>1390</td>\n      <td>Roman</td>\n      <td>34.938093</td>\n      <td>-9.856322</td>\n      <td>none</td>\n      <td>0</td>\n      <td>...</td>\n      <td>annually</td>\n      <td>soft</td>\n      <td>good</td>\n      <td>enough</td>\n      <td>enough</td>\n      <td>spring</td>\n      <td>spring</td>\n      <td>groundwater</td>\n      <td>communal standpipe</td>\n      <td>communal standpipe</td>\n    </tr>\n    <tr>\n      <th>1</th>\n      <td>8776</td>\n      <td>0.0</td>\n      <td>2013-03-06</td>\n      <td>Grumeti</td>\n      <td>1399</td>\n      <td>GRUMETI</td>\n      <td>34.698766</td>\n      <td>-2.147466</td>\n      <td>Zahanati</td>\n      <td>0</td>\n      <td>...</td>\n      <td>never pay</td>\n      <td>soft</td>\n      <td>good</td>\n      <td>insufficient</td>\n      <td>insufficient</td>\n      <td>rainwater harvesting</td>\n      <td>rainwater harvesting</td>\n      <td>surface</td>\n      <td>communal standpipe</td>\n      <td>communal standpipe</td>\n    </tr>\n    <tr>\n      <th>2</th>\n      <td>34310</td>\n      <td>25.0</td>\n      <td>2013-02-25</td>\n      <td>Lottery Club</td>\n      <td>686</td>\n      <td>World vision</td>\n      <td>37.460664</td>\n      <td>-3.821329</td>\n      <td>Kwa Mahundi</td>\n      <td>0</td>\n      <td>...</td>\n      <td>per bucket</td>\n      <td>soft</td>\n      <td>good</td>\n      <td>enough</td>\n      <td>enough</td>\n      <td>dam</td>\n      <td>dam</td>\n      <td>surface</td>\n      <td>communal standpipe multiple</td>\n      <td>communal standpipe</td>\n    </tr>\n    <tr>\n      <th>3</th>\n      <td>67743</td>\n      <td>0.0</td>\n      <td>2013-01-28</td>\n      <td>Unicef</td>\n      <td>263</td>\n      <td>UNICEF</td>\n      <td>38.486161</td>\n      <td>-11.155298</td>\n      <td>Zahanati Ya Nanyumbu</td>\n      <td>0</td>\n      <td>...</td>\n      <td>never pay</td>\n      <td>soft</td>\n      <td>good</td>\n      <td>dry</td>\n      <td>dry</td>\n      <td>machine dbh</td>\n      <td>borehole</td>\n      <td>groundwater</td>\n      <td>communal standpipe multiple</td>\n      <td>communal standpipe</td>\n    </tr>\n    <tr>\n      <th>4</th>\n      <td>19728</td>\n      <td>0.0</td>\n      <td>2011-07-13</td>\n      <td>Action In A</td>\n      <td>0</td>\n      <td>Artisan</td>\n      <td>31.130847</td>\n      <td>-1.825359</td>\n      <td>Shuleni</td>\n      <td>0</td>\n      <td>...</td>\n      <td>never pay</td>\n      <td>soft</td>\n      <td>good</td>\n      <td>seasonal</td>\n      <td>seasonal</td>\n      <td>rainwater harvesting</td>\n      <td>rainwater harvesting</td>\n      <td>surface</td>\n      <td>communal standpipe</td>\n      <td>communal standpipe</td>\n    </tr>\n  </tbody>\n</table>\n<p>5 rows × 40 columns</p>\n</div>"
     },
     "execution_count": 6,
     "metadata": {},
     "output_type": "execute_result"
    }
   ]
  },
  {
   "cell_type": "code",
   "source": [
    "train_labels.head()"
   ],
   "metadata": {
    "id": "JRjX4Hpt0Olv",
    "ExecuteTime": {
     "end_time": "2023-07-06T14:33:56.924263Z",
     "start_time": "2023-07-06T14:33:56.921167Z"
    }
   },
   "execution_count": 7,
   "outputs": [
    {
     "data": {
      "text/plain": "      id    status_group\n0  69572      functional\n1   8776      functional\n2  34310      functional\n3  67743  non functional\n4  19728      functional",
      "text/html": "<div>\n<style scoped>\n    .dataframe tbody tr th:only-of-type {\n        vertical-align: middle;\n    }\n\n    .dataframe tbody tr th {\n        vertical-align: top;\n    }\n\n    .dataframe thead th {\n        text-align: right;\n    }\n</style>\n<table border=\"1\" class=\"dataframe\">\n  <thead>\n    <tr style=\"text-align: right;\">\n      <th></th>\n      <th>id</th>\n      <th>status_group</th>\n    </tr>\n  </thead>\n  <tbody>\n    <tr>\n      <th>0</th>\n      <td>69572</td>\n      <td>functional</td>\n    </tr>\n    <tr>\n      <th>1</th>\n      <td>8776</td>\n      <td>functional</td>\n    </tr>\n    <tr>\n      <th>2</th>\n      <td>34310</td>\n      <td>functional</td>\n    </tr>\n    <tr>\n      <th>3</th>\n      <td>67743</td>\n      <td>non functional</td>\n    </tr>\n    <tr>\n      <th>4</th>\n      <td>19728</td>\n      <td>functional</td>\n    </tr>\n  </tbody>\n</table>\n</div>"
     },
     "execution_count": 7,
     "metadata": {},
     "output_type": "execute_result"
    }
   ]
  },
  {
   "cell_type": "code",
   "source": [
    "test_features.head()"
   ],
   "metadata": {
    "id": "_sUGw5FfzvZA",
    "ExecuteTime": {
     "end_time": "2023-07-06T14:33:57.778173Z",
     "start_time": "2023-07-06T14:33:57.764737Z"
    }
   },
   "execution_count": 8,
   "outputs": [
    {
     "data": {
      "text/plain": "      id  amount_tsh date_recorded                  funder  gps_height  \\\n0  50785         0.0    2013-02-04                    Dmdd        1996   \n1  51630         0.0    2013-02-04  Government Of Tanzania        1569   \n2  17168         0.0    2013-02-01                     NaN        1567   \n3  45559         0.0    2013-01-22              Finn Water         267   \n4  49871       500.0    2013-03-27                  Bruder        1260   \n\n    installer  longitude   latitude                 wpt_name  num_private  \\\n0        DMDD  35.290799  -4.059696  Dinamu Secondary School            0   \n1         DWE  36.656709  -3.309214                  Kimnyak            0   \n2         NaN  34.767863  -5.004344           Puma Secondary            0   \n3  FINN WATER  38.058046  -9.418672           Kwa Mzee Pange            0   \n4      BRUDER  35.006123 -10.950412          Kwa Mzee Turuka            0   \n\n   ... payment_type water_quality quality_group      quantity  quantity_group  \\\n0  ...    never pay          soft          good      seasonal        seasonal   \n1  ...    never pay          soft          good  insufficient    insufficient   \n2  ...    never pay          soft          good  insufficient    insufficient   \n3  ...      unknown          soft          good           dry             dry   \n4  ...      monthly          soft          good        enough          enough   \n\n                 source           source_type  source_class  \\\n0  rainwater harvesting  rainwater harvesting       surface   \n1                spring                spring   groundwater   \n2  rainwater harvesting  rainwater harvesting       surface   \n3          shallow well          shallow well   groundwater   \n4                spring                spring   groundwater   \n\n      waterpoint_type waterpoint_type_group  \n0               other                 other  \n1  communal standpipe    communal standpipe  \n2               other                 other  \n3               other                 other  \n4  communal standpipe    communal standpipe  \n\n[5 rows x 40 columns]",
      "text/html": "<div>\n<style scoped>\n    .dataframe tbody tr th:only-of-type {\n        vertical-align: middle;\n    }\n\n    .dataframe tbody tr th {\n        vertical-align: top;\n    }\n\n    .dataframe thead th {\n        text-align: right;\n    }\n</style>\n<table border=\"1\" class=\"dataframe\">\n  <thead>\n    <tr style=\"text-align: right;\">\n      <th></th>\n      <th>id</th>\n      <th>amount_tsh</th>\n      <th>date_recorded</th>\n      <th>funder</th>\n      <th>gps_height</th>\n      <th>installer</th>\n      <th>longitude</th>\n      <th>latitude</th>\n      <th>wpt_name</th>\n      <th>num_private</th>\n      <th>...</th>\n      <th>payment_type</th>\n      <th>water_quality</th>\n      <th>quality_group</th>\n      <th>quantity</th>\n      <th>quantity_group</th>\n      <th>source</th>\n      <th>source_type</th>\n      <th>source_class</th>\n      <th>waterpoint_type</th>\n      <th>waterpoint_type_group</th>\n    </tr>\n  </thead>\n  <tbody>\n    <tr>\n      <th>0</th>\n      <td>50785</td>\n      <td>0.0</td>\n      <td>2013-02-04</td>\n      <td>Dmdd</td>\n      <td>1996</td>\n      <td>DMDD</td>\n      <td>35.290799</td>\n      <td>-4.059696</td>\n      <td>Dinamu Secondary School</td>\n      <td>0</td>\n      <td>...</td>\n      <td>never pay</td>\n      <td>soft</td>\n      <td>good</td>\n      <td>seasonal</td>\n      <td>seasonal</td>\n      <td>rainwater harvesting</td>\n      <td>rainwater harvesting</td>\n      <td>surface</td>\n      <td>other</td>\n      <td>other</td>\n    </tr>\n    <tr>\n      <th>1</th>\n      <td>51630</td>\n      <td>0.0</td>\n      <td>2013-02-04</td>\n      <td>Government Of Tanzania</td>\n      <td>1569</td>\n      <td>DWE</td>\n      <td>36.656709</td>\n      <td>-3.309214</td>\n      <td>Kimnyak</td>\n      <td>0</td>\n      <td>...</td>\n      <td>never pay</td>\n      <td>soft</td>\n      <td>good</td>\n      <td>insufficient</td>\n      <td>insufficient</td>\n      <td>spring</td>\n      <td>spring</td>\n      <td>groundwater</td>\n      <td>communal standpipe</td>\n      <td>communal standpipe</td>\n    </tr>\n    <tr>\n      <th>2</th>\n      <td>17168</td>\n      <td>0.0</td>\n      <td>2013-02-01</td>\n      <td>NaN</td>\n      <td>1567</td>\n      <td>NaN</td>\n      <td>34.767863</td>\n      <td>-5.004344</td>\n      <td>Puma Secondary</td>\n      <td>0</td>\n      <td>...</td>\n      <td>never pay</td>\n      <td>soft</td>\n      <td>good</td>\n      <td>insufficient</td>\n      <td>insufficient</td>\n      <td>rainwater harvesting</td>\n      <td>rainwater harvesting</td>\n      <td>surface</td>\n      <td>other</td>\n      <td>other</td>\n    </tr>\n    <tr>\n      <th>3</th>\n      <td>45559</td>\n      <td>0.0</td>\n      <td>2013-01-22</td>\n      <td>Finn Water</td>\n      <td>267</td>\n      <td>FINN WATER</td>\n      <td>38.058046</td>\n      <td>-9.418672</td>\n      <td>Kwa Mzee Pange</td>\n      <td>0</td>\n      <td>...</td>\n      <td>unknown</td>\n      <td>soft</td>\n      <td>good</td>\n      <td>dry</td>\n      <td>dry</td>\n      <td>shallow well</td>\n      <td>shallow well</td>\n      <td>groundwater</td>\n      <td>other</td>\n      <td>other</td>\n    </tr>\n    <tr>\n      <th>4</th>\n      <td>49871</td>\n      <td>500.0</td>\n      <td>2013-03-27</td>\n      <td>Bruder</td>\n      <td>1260</td>\n      <td>BRUDER</td>\n      <td>35.006123</td>\n      <td>-10.950412</td>\n      <td>Kwa Mzee Turuka</td>\n      <td>0</td>\n      <td>...</td>\n      <td>monthly</td>\n      <td>soft</td>\n      <td>good</td>\n      <td>enough</td>\n      <td>enough</td>\n      <td>spring</td>\n      <td>spring</td>\n      <td>groundwater</td>\n      <td>communal standpipe</td>\n      <td>communal standpipe</td>\n    </tr>\n  </tbody>\n</table>\n<p>5 rows × 40 columns</p>\n</div>"
     },
     "execution_count": 8,
     "metadata": {},
     "output_type": "execute_result"
    }
   ]
  },
  {
   "cell_type": "code",
   "metadata": {
    "id": "DN79RES5vzqr",
    "ExecuteTime": {
     "end_time": "2023-07-06T14:35:22.822978Z",
     "start_time": "2023-07-06T14:35:22.748745Z"
    }
   },
   "source": [
    "train = pd.merge(train_features, train_labels)\n",
    "train"
   ],
   "execution_count": 11,
   "outputs": [
    {
     "data": {
      "text/plain": "          id  amount_tsh date_recorded           funder  gps_height  \\\n0      69572      6000.0    2011-03-14            Roman        1390   \n1       8776         0.0    2013-03-06          Grumeti        1399   \n2      34310        25.0    2013-02-25     Lottery Club         686   \n3      67743         0.0    2013-01-28           Unicef         263   \n4      19728         0.0    2011-07-13      Action In A           0   \n...      ...         ...           ...              ...         ...   \n59395  60739        10.0    2013-05-03  Germany Republi        1210   \n59396  27263      4700.0    2011-05-07      Cefa-njombe        1212   \n59397  37057         0.0    2011-04-11              NaN           0   \n59398  31282         0.0    2011-03-08            Malec           0   \n59399  26348         0.0    2011-03-23       World Bank         191   \n\n          installer  longitude   latitude              wpt_name  num_private  \\\n0             Roman  34.938093  -9.856322                  none            0   \n1           GRUMETI  34.698766  -2.147466              Zahanati            0   \n2      World vision  37.460664  -3.821329           Kwa Mahundi            0   \n3            UNICEF  38.486161 -11.155298  Zahanati Ya Nanyumbu            0   \n4           Artisan  31.130847  -1.825359               Shuleni            0   \n...             ...        ...        ...                   ...          ...   \n59395           CES  37.169807  -3.253847   Area Three Namba 27            0   \n59396          Cefa  35.249991  -9.070629     Kwa Yahona Kuvala            0   \n59397           NaN  34.017087  -8.750434               Mashine            0   \n59398          Musa  35.861315  -6.378573                Mshoro            0   \n59399         World  38.104048  -6.747464       Kwa Mzee Lugawa            0   \n\n       ... water_quality quality_group      quantity  quantity_group  \\\n0      ...          soft          good        enough          enough   \n1      ...          soft          good  insufficient    insufficient   \n2      ...          soft          good        enough          enough   \n3      ...          soft          good           dry             dry   \n4      ...          soft          good      seasonal        seasonal   \n...    ...           ...           ...           ...             ...   \n59395  ...          soft          good        enough          enough   \n59396  ...          soft          good        enough          enough   \n59397  ...      fluoride      fluoride        enough          enough   \n59398  ...          soft          good  insufficient    insufficient   \n59399  ...         salty         salty        enough          enough   \n\n                     source           source_type source_class  \\\n0                    spring                spring  groundwater   \n1      rainwater harvesting  rainwater harvesting      surface   \n2                       dam                   dam      surface   \n3               machine dbh              borehole  groundwater   \n4      rainwater harvesting  rainwater harvesting      surface   \n...                     ...                   ...          ...   \n59395                spring                spring  groundwater   \n59396                 river            river/lake      surface   \n59397           machine dbh              borehole  groundwater   \n59398          shallow well          shallow well  groundwater   \n59399          shallow well          shallow well  groundwater   \n\n                   waterpoint_type waterpoint_type_group    status_group  \n0               communal standpipe    communal standpipe      functional  \n1               communal standpipe    communal standpipe      functional  \n2      communal standpipe multiple    communal standpipe      functional  \n3      communal standpipe multiple    communal standpipe  non functional  \n4               communal standpipe    communal standpipe      functional  \n...                            ...                   ...             ...  \n59395           communal standpipe    communal standpipe      functional  \n59396           communal standpipe    communal standpipe      functional  \n59397                    hand pump             hand pump      functional  \n59398                    hand pump             hand pump      functional  \n59399                    hand pump             hand pump      functional  \n\n[59400 rows x 41 columns]",
      "text/html": "<div>\n<style scoped>\n    .dataframe tbody tr th:only-of-type {\n        vertical-align: middle;\n    }\n\n    .dataframe tbody tr th {\n        vertical-align: top;\n    }\n\n    .dataframe thead th {\n        text-align: right;\n    }\n</style>\n<table border=\"1\" class=\"dataframe\">\n  <thead>\n    <tr style=\"text-align: right;\">\n      <th></th>\n      <th>id</th>\n      <th>amount_tsh</th>\n      <th>date_recorded</th>\n      <th>funder</th>\n      <th>gps_height</th>\n      <th>installer</th>\n      <th>longitude</th>\n      <th>latitude</th>\n      <th>wpt_name</th>\n      <th>num_private</th>\n      <th>...</th>\n      <th>water_quality</th>\n      <th>quality_group</th>\n      <th>quantity</th>\n      <th>quantity_group</th>\n      <th>source</th>\n      <th>source_type</th>\n      <th>source_class</th>\n      <th>waterpoint_type</th>\n      <th>waterpoint_type_group</th>\n      <th>status_group</th>\n    </tr>\n  </thead>\n  <tbody>\n    <tr>\n      <th>0</th>\n      <td>69572</td>\n      <td>6000.0</td>\n      <td>2011-03-14</td>\n      <td>Roman</td>\n      <td>1390</td>\n      <td>Roman</td>\n      <td>34.938093</td>\n      <td>-9.856322</td>\n      <td>none</td>\n      <td>0</td>\n      <td>...</td>\n      <td>soft</td>\n      <td>good</td>\n      <td>enough</td>\n      <td>enough</td>\n      <td>spring</td>\n      <td>spring</td>\n      <td>groundwater</td>\n      <td>communal standpipe</td>\n      <td>communal standpipe</td>\n      <td>functional</td>\n    </tr>\n    <tr>\n      <th>1</th>\n      <td>8776</td>\n      <td>0.0</td>\n      <td>2013-03-06</td>\n      <td>Grumeti</td>\n      <td>1399</td>\n      <td>GRUMETI</td>\n      <td>34.698766</td>\n      <td>-2.147466</td>\n      <td>Zahanati</td>\n      <td>0</td>\n      <td>...</td>\n      <td>soft</td>\n      <td>good</td>\n      <td>insufficient</td>\n      <td>insufficient</td>\n      <td>rainwater harvesting</td>\n      <td>rainwater harvesting</td>\n      <td>surface</td>\n      <td>communal standpipe</td>\n      <td>communal standpipe</td>\n      <td>functional</td>\n    </tr>\n    <tr>\n      <th>2</th>\n      <td>34310</td>\n      <td>25.0</td>\n      <td>2013-02-25</td>\n      <td>Lottery Club</td>\n      <td>686</td>\n      <td>World vision</td>\n      <td>37.460664</td>\n      <td>-3.821329</td>\n      <td>Kwa Mahundi</td>\n      <td>0</td>\n      <td>...</td>\n      <td>soft</td>\n      <td>good</td>\n      <td>enough</td>\n      <td>enough</td>\n      <td>dam</td>\n      <td>dam</td>\n      <td>surface</td>\n      <td>communal standpipe multiple</td>\n      <td>communal standpipe</td>\n      <td>functional</td>\n    </tr>\n    <tr>\n      <th>3</th>\n      <td>67743</td>\n      <td>0.0</td>\n      <td>2013-01-28</td>\n      <td>Unicef</td>\n      <td>263</td>\n      <td>UNICEF</td>\n      <td>38.486161</td>\n      <td>-11.155298</td>\n      <td>Zahanati Ya Nanyumbu</td>\n      <td>0</td>\n      <td>...</td>\n      <td>soft</td>\n      <td>good</td>\n      <td>dry</td>\n      <td>dry</td>\n      <td>machine dbh</td>\n      <td>borehole</td>\n      <td>groundwater</td>\n      <td>communal standpipe multiple</td>\n      <td>communal standpipe</td>\n      <td>non functional</td>\n    </tr>\n    <tr>\n      <th>4</th>\n      <td>19728</td>\n      <td>0.0</td>\n      <td>2011-07-13</td>\n      <td>Action In A</td>\n      <td>0</td>\n      <td>Artisan</td>\n      <td>31.130847</td>\n      <td>-1.825359</td>\n      <td>Shuleni</td>\n      <td>0</td>\n      <td>...</td>\n      <td>soft</td>\n      <td>good</td>\n      <td>seasonal</td>\n      <td>seasonal</td>\n      <td>rainwater harvesting</td>\n      <td>rainwater harvesting</td>\n      <td>surface</td>\n      <td>communal standpipe</td>\n      <td>communal standpipe</td>\n      <td>functional</td>\n    </tr>\n    <tr>\n      <th>...</th>\n      <td>...</td>\n      <td>...</td>\n      <td>...</td>\n      <td>...</td>\n      <td>...</td>\n      <td>...</td>\n      <td>...</td>\n      <td>...</td>\n      <td>...</td>\n      <td>...</td>\n      <td>...</td>\n      <td>...</td>\n      <td>...</td>\n      <td>...</td>\n      <td>...</td>\n      <td>...</td>\n      <td>...</td>\n      <td>...</td>\n      <td>...</td>\n      <td>...</td>\n      <td>...</td>\n    </tr>\n    <tr>\n      <th>59395</th>\n      <td>60739</td>\n      <td>10.0</td>\n      <td>2013-05-03</td>\n      <td>Germany Republi</td>\n      <td>1210</td>\n      <td>CES</td>\n      <td>37.169807</td>\n      <td>-3.253847</td>\n      <td>Area Three Namba 27</td>\n      <td>0</td>\n      <td>...</td>\n      <td>soft</td>\n      <td>good</td>\n      <td>enough</td>\n      <td>enough</td>\n      <td>spring</td>\n      <td>spring</td>\n      <td>groundwater</td>\n      <td>communal standpipe</td>\n      <td>communal standpipe</td>\n      <td>functional</td>\n    </tr>\n    <tr>\n      <th>59396</th>\n      <td>27263</td>\n      <td>4700.0</td>\n      <td>2011-05-07</td>\n      <td>Cefa-njombe</td>\n      <td>1212</td>\n      <td>Cefa</td>\n      <td>35.249991</td>\n      <td>-9.070629</td>\n      <td>Kwa Yahona Kuvala</td>\n      <td>0</td>\n      <td>...</td>\n      <td>soft</td>\n      <td>good</td>\n      <td>enough</td>\n      <td>enough</td>\n      <td>river</td>\n      <td>river/lake</td>\n      <td>surface</td>\n      <td>communal standpipe</td>\n      <td>communal standpipe</td>\n      <td>functional</td>\n    </tr>\n    <tr>\n      <th>59397</th>\n      <td>37057</td>\n      <td>0.0</td>\n      <td>2011-04-11</td>\n      <td>NaN</td>\n      <td>0</td>\n      <td>NaN</td>\n      <td>34.017087</td>\n      <td>-8.750434</td>\n      <td>Mashine</td>\n      <td>0</td>\n      <td>...</td>\n      <td>fluoride</td>\n      <td>fluoride</td>\n      <td>enough</td>\n      <td>enough</td>\n      <td>machine dbh</td>\n      <td>borehole</td>\n      <td>groundwater</td>\n      <td>hand pump</td>\n      <td>hand pump</td>\n      <td>functional</td>\n    </tr>\n    <tr>\n      <th>59398</th>\n      <td>31282</td>\n      <td>0.0</td>\n      <td>2011-03-08</td>\n      <td>Malec</td>\n      <td>0</td>\n      <td>Musa</td>\n      <td>35.861315</td>\n      <td>-6.378573</td>\n      <td>Mshoro</td>\n      <td>0</td>\n      <td>...</td>\n      <td>soft</td>\n      <td>good</td>\n      <td>insufficient</td>\n      <td>insufficient</td>\n      <td>shallow well</td>\n      <td>shallow well</td>\n      <td>groundwater</td>\n      <td>hand pump</td>\n      <td>hand pump</td>\n      <td>functional</td>\n    </tr>\n    <tr>\n      <th>59399</th>\n      <td>26348</td>\n      <td>0.0</td>\n      <td>2011-03-23</td>\n      <td>World Bank</td>\n      <td>191</td>\n      <td>World</td>\n      <td>38.104048</td>\n      <td>-6.747464</td>\n      <td>Kwa Mzee Lugawa</td>\n      <td>0</td>\n      <td>...</td>\n      <td>salty</td>\n      <td>salty</td>\n      <td>enough</td>\n      <td>enough</td>\n      <td>shallow well</td>\n      <td>shallow well</td>\n      <td>groundwater</td>\n      <td>hand pump</td>\n      <td>hand pump</td>\n      <td>functional</td>\n    </tr>\n  </tbody>\n</table>\n<p>59400 rows × 41 columns</p>\n</div>"
     },
     "execution_count": 11,
     "metadata": {},
     "output_type": "execute_result"
    }
   ]
  },
  {
   "cell_type": "markdown",
   "metadata": {
    "id": "xpxcaA6yUwzP"
   },
   "source": [
    "### EDA"
   ]
  },
  {
   "cell_type": "code",
   "source": [
    "train.info()"
   ],
   "metadata": {
    "id": "kD3Mt3Ek02zZ"
   },
   "execution_count": null,
   "outputs": []
  },
  {
   "cell_type": "code",
   "source": [
    "ProfileReport(train, minimal=True).to_notebook_iframe()"
   ],
   "metadata": {
    "id": "Sx65vlTX62ji"
   },
   "execution_count": null,
   "outputs": []
  },
  {
   "cell_type": "code",
   "metadata": {
    "id": "kaSsPQqqbFkY"
   },
   "source": [
    "# train = pd.merge(pd.read_csv('train_features.csv',na_values=[0, -2.000000e-08]),\n",
    "#                  pd.read_csv('train_labels.csv'))\n",
    "# X_test = pd.read_csv('test_features.csv', na_values=[0, -2.000000e-08])\n",
    "\n",
    "\n",
    "def wrangle(df):\n",
    "\n",
    "  # Set the index to 'id'\n",
    "  df.set_index('id', inplace=True)\n",
    "\n",
    "  # Drop Constant Column\n",
    "  df.drop(columns=, inplace=True)\n",
    "\n",
    "  # Drop Duplicate Column\n",
    "  df.drop(columns=, inplace=True)\n",
    "\n",
    "  # Drop High Cardinality Columns\n",
    "  threshold = 100\n",
    "  cols_to_drop = [col for col in df.select_dtypes('object') if df[col].nunique() > threshold]\n",
    "  df.drop(columns=cols_to_drop, inplace=True)\n",
    "\n",
    "  # Drop columns with high proportion of zeros\n",
    "  df.drop(columns=, inplace=True)\n",
    "\n",
    "  return df\n",
    "\n",
    "train = wrangle(train)\n",
    "X_test = wrangle(test_features)\n"
   ],
   "execution_count": null,
   "outputs": []
  },
  {
   "cell_type": "code",
   "metadata": {
    "id": "rExNTtaSwCri"
   },
   "source": [
    "# null island!\n",
    "# bunch of data coordinates at 0,0\n",
    "\n",
    "plt.scatter(train['longitude'], train['latitude'])\n",
    "plt.show()"
   ],
   "execution_count": null,
   "outputs": []
  },
  {
   "cell_type": "code",
   "metadata": {
    "id": "XGJexjFXwCo_"
   },
   "source": [
    "train[train['latitude'] == 0]"
   ],
   "execution_count": null,
   "outputs": []
  },
  {
   "cell_type": "code",
   "source": [
    "train[train['longitude'] == 0]"
   ],
   "metadata": {
    "id": "OQsjJnHNIFwC"
   },
   "execution_count": null,
   "outputs": []
  },
  {
   "cell_type": "markdown",
   "metadata": {
    "id": "jetWccxMqmzY"
   },
   "source": [
    "# II. Split Data"
   ]
  },
  {
   "cell_type": "markdown",
   "metadata": {
    "id": "y-MPA0qlr-mK"
   },
   "source": [
    "## Split TV from FM"
   ]
  },
  {
   "cell_type": "code",
   "metadata": {
    "id": "JsquPmP26y7h"
   },
   "source": [
    "target =\n",
    "y = train[target]\n",
    "X = train.drop(columns=target)"
   ],
   "execution_count": null,
   "outputs": []
  },
  {
   "cell_type": "markdown",
   "metadata": {
    "id": "n8jSWomGsLsw"
   },
   "source": [
    "## Training-Validation Split"
   ]
  },
  {
   "cell_type": "code",
   "metadata": {
    "id": "bXikcdMD2vON"
   },
   "source": [
    "X_train, X_val, y_train, y_val = train_test_split(X, y, test_size=0.2, random_state=42)"
   ],
   "execution_count": null,
   "outputs": []
  },
  {
   "cell_type": "markdown",
   "metadata": {
    "id": "WX9uvMMgs6J_"
   },
   "source": [
    "# III. Establish Baseline\n",
    "\n",
    "- Is this a *regression* or a *classification* problem?"
   ]
  },
  {
   "cell_type": "code",
   "metadata": {
    "id": "g9i5ZQxcwJ3u"
   },
   "source": [],
   "execution_count": null,
   "outputs": []
  },
  {
   "cell_type": "code",
   "metadata": {
    "id": "oTW9yRjI2wzD"
   },
   "source": [
    "print('baseline accuracy:',)"
   ],
   "execution_count": null,
   "outputs": []
  },
  {
   "cell_type": "markdown",
   "metadata": {
    "id": "MA19NsrFtgTT"
   },
   "source": [
    "# IV. Build Model(s)"
   ]
  },
  {
   "cell_type": "markdown",
   "metadata": {
    "id": "Q2_AEFsZKGCK"
   },
   "source": [
    "**First Model:** Logistic Regression"
   ]
  },
  {
   "cell_type": "code",
   "metadata": {
    "id": "wRziCiGa2ynR"
   },
   "source": [
    "model_lr = make_pipeline()\n",
    "\n",
    "model_lr.fit(X_train, y_train)"
   ],
   "execution_count": null,
   "outputs": []
  },
  {
   "cell_type": "markdown",
   "metadata": {
    "id": "AMFtqMtkMbRw"
   },
   "source": [
    "**Second Model:** Decision Tree Classifier"
   ]
  },
  {
   "cell_type": "code",
   "metadata": {
    "id": "ukHNb4IND00z"
   },
   "source": [
    "model_dt = make_pipeline()\n",
    "\n",
    "model_dt.fit(X_train, y_train)"
   ],
   "execution_count": null,
   "outputs": []
  },
  {
   "cell_type": "markdown",
   "metadata": {
    "id": "D63CwGlVvtSu"
   },
   "source": [
    "**Interlude: How does a tree model work?**"
   ]
  },
  {
   "cell_type": "code",
   "metadata": {
    "id": "k5gp7tIowkDB"
   },
   "source": [],
   "execution_count": null,
   "outputs": []
  },
  {
   "cell_type": "code",
   "metadata": {
    "id": "66LHM-tGwTP7"
   },
   "source": [],
   "execution_count": null,
   "outputs": []
  },
  {
   "cell_type": "markdown",
   "metadata": {
    "id": "v7Cr2n7Vu9cb"
   },
   "source": [
    "# V. Check Metrics"
   ]
  },
  {
   "cell_type": "code",
   "metadata": {
    "id": "vmjtTct2IoXk"
   },
   "source": [
    "print('model_lr accuracy score for training',)\n",
    "print('model_lr accuracy score for val', )"
   ],
   "execution_count": null,
   "outputs": []
  },
  {
   "cell_type": "code",
   "metadata": {
    "id": "DUix0NCRNUO-"
   },
   "source": [
    "\n",
    "print('model_dt accuracy score for training', )\n",
    "print('model_dt accuracy score for val', )"
   ],
   "execution_count": null,
   "outputs": []
  },
  {
   "cell_type": "markdown",
   "metadata": {
    "id": "gln6sVSS4ZmQ"
   },
   "source": [
    "# VI. Tune Model"
   ]
  },
  {
   "cell_type": "code",
   "metadata": {
    "id": "vvDNrDeqx2Av"
   },
   "source": [
    "depths = range(5, 20, 2)\n",
    "list(depths)"
   ],
   "execution_count": null,
   "outputs": []
  },
  {
   "cell_type": "code",
   "metadata": {
    "id": "YCEP2xq0TcuG"
   },
   "source": [
    "# very similar steps to how we tuned alpha for ridge regression\n",
    "\n",
    "# train_acc = []\n",
    "# val_acc = []\n",
    "\n",
    "\n",
    "#   tree_model.fit(X_train, y_train)\n",
    "#   train_acc.append(tree_model.score(X_train, y_train))\n",
    "#   val_acc.append(tree_model.score(X_val, y_val))"
   ],
   "execution_count": null,
   "outputs": []
  },
  {
   "cell_type": "code",
   "metadata": {
    "id": "nckQirvjapf2"
   },
   "source": [
    "\n",
    "# plt.plot(depths, train_acc, color='blue', label='training')\n",
    "# plt.plot(depths, val_acc, color='orange', label='validation')\n",
    "# plt.xlabel('max_depth')\n",
    "# plt.ylabel('accuracy')\n",
    "# plt.title('Validation Curves') # These plots are called VALIDATION CURVES!\n",
    "# plt.legend()\n",
    "# plt.show()"
   ],
   "execution_count": null,
   "outputs": []
  },
  {
   "cell_type": "markdown",
   "metadata": {
    "id": "syHY33Wr2O9F"
   },
   "source": [
    "# VII. Communicate Results\n"
   ]
  },
  {
   "cell_type": "markdown",
   "metadata": {
    "id": "4BXV7dsiUhyo"
   },
   "source": [
    "### Gini importance"
   ]
  },
  {
   "cell_type": "code",
   "metadata": {
    "id": "D0RpRkqalde9"
   },
   "source": [
    "features =\n",
    "gini_importances =\n",
    "pd.Series(data=gini_importances, index=features).sort_values(key=abs).tail(10).plot(kind='barh')\n",
    "plt.ylabel('features')\n",
    "plt.xlabel('gini importance');"
   ],
   "execution_count": null,
   "outputs": []
  },
  {
   "cell_type": "markdown",
   "metadata": {
    "id": "SG9I4zGa-r5S"
   },
   "source": [
    "# VIII. Kaggle Submission"
   ]
  },
  {
   "cell_type": "code",
   "metadata": {
    "id": "DhcwcQRylmfY"
   },
   "source": [
    "predictions = pd.DataFrame(data=model_lr.predict(X_test), index=X_test.index)"
   ],
   "execution_count": null,
   "outputs": []
  },
  {
   "cell_type": "code",
   "metadata": {
    "id": "xi6HV3GBlqVV"
   },
   "source": [
    "predictions.columns = ['status_group']"
   ],
   "execution_count": null,
   "outputs": []
  },
  {
   "cell_type": "code",
   "source": [
    "predictions"
   ],
   "metadata": {
    "id": "HUorQNw51cYF"
   },
   "execution_count": null,
   "outputs": []
  },
  {
   "cell_type": "code",
   "metadata": {
    "id": "aNdxTAd0lswo"
   },
   "source": [
    "# generate CSV\n",
    "predictions.to_csv('new_submission.csv')"
   ],
   "execution_count": null,
   "outputs": []
  },
  {
   "cell_type": "code",
   "execution_count": null,
   "outputs": [],
   "source": [],
   "metadata": {
    "collapsed": false
   }
  }
 ]
}
